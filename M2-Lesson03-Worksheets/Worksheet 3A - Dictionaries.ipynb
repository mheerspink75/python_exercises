{
 "cells": [
  {
   "cell_type": "markdown",
   "metadata": {},
   "source": [
    "# Worksheet 3A: Dictionaries\n",
    "This worksheet corresponds to *Lesson 3A: Dictionaries* in the online course. Refer to that lesson as necessary to complete these practice exercises."
   ]
  },
  {
   "cell_type": "markdown",
   "metadata": {},
   "source": [
    "## Practice 1a\n",
    "Starting with the dictionary below, add another record with the same key as an existing record, such as \"X10001\": \"Mary\". Before running the updated code, predict what you think will happen, keeping in mind that a dictionary cannot include the same key in more than one record.\n",
    "\n",
    "Was your prediction correct?"
   ]
  },
  {
   "cell_type": "code",
   "execution_count": 1,
   "metadata": {},
   "outputs": [
    {
     "name": "stdout",
     "output_type": "stream",
     "text": [
      "{'X10000': 'Michael', 'X10002': 'Neil', 'X10001': 'Mary'}\n"
     ]
    }
   ],
   "source": [
    "students_dict = dict()\n",
    "students_dict['X10000'] = 'Michael' #Assign the key X10000,the value Michael\n",
    "students_dict['X10002'] = 'Neil' #Assign the key X10002,the value Neil\n",
    "students_dict['X10001'] = 'Karen' #Assign the key X10001,the value Karen\n",
    "\n",
    "students_dict['X10001'] = 'Mary'\n",
    "\n",
    "print(students_dict)"
   ]
  },
  {
   "cell_type": "markdown",
   "metadata": {},
   "source": [
    "## Practice 1b\n",
    "Create a dictionary that contains key-value pairs of your choice. The dictionary should have at least four key-value pairs. Make sure to use meaningful keys and values, so you would eventually be able to look up a value using its key.\n",
    "\n",
    "Suggestions include:\n",
    "* Names and phone numbers\n",
    "* Menu prices\n",
    "* RPG players and roles\n",
    "* Text acronyms and their meanings\n",
    "\n",
    "Remember that each key must be unique in the dictionary. However, key-value pairs can be added in any order."
   ]
  },
  {
   "cell_type": "code",
   "execution_count": 55,
   "metadata": {},
   "outputs": [
    {
     "name": "stdout",
     "output_type": "stream",
     "text": [
      "{'bread': 2, 'cheese': 1.5, 'salami': 2.5, 'mustard': 0.5, 'lettuce': 1, 'tomato': 1}\n"
     ]
    }
   ],
   "source": [
    "# your code here\n",
    "\n",
    "my_sub = dict()\n",
    "\n",
    "my_sub['bread'] = 2\n",
    "my_sub['cheese'] = 1.5\n",
    "my_sub['salami'] = 2.5\n",
    "my_sub['mustard'] = .5\n",
    "my_sub['lettuce'] = 1\n",
    "my_sub['tomato'] = 1\n",
    "\n",
    "print(my_sub)"
   ]
  },
  {
   "cell_type": "markdown",
   "metadata": {},
   "source": [
    "## Practice 2\n",
    "Use the two lists below to create a dictionary where the state abbreviations are used as keys and the values are the respective populations. \n",
    "\n",
    "The state and population lists are in the same order, e.g.,  CA has a population of 39557045.\n",
    "\n",
    "After creating the dictionary, retrieve the population of each state individually."
   ]
  },
  {
   "cell_type": "code",
   "execution_count": 32,
   "metadata": {},
   "outputs": [
    {
     "name": "stdout",
     "output_type": "stream",
     "text": [
      "CA 39557045\n",
      "NY 19542209\n",
      "KY 4468402\n"
     ]
    }
   ],
   "source": [
    "states = ['CA', 'NY', 'KY']\n",
    "population = [39557045, 19542209, 4468402]\n",
    "\n",
    "# your code here\n",
    "\n",
    "d = dict(zip(states, population))\n",
    "\n",
    "for k, v in d.items():\n",
    "    print(k, v)\n"
   ]
  },
  {
   "cell_type": "markdown",
   "metadata": {},
   "source": [
    "## Practice 3\n",
    "Write a script that creates a dictionary and then uses a `for` loop to display the individual values in the dictionary.\n",
    "\n",
    "You can use the practice dictionary you created earlier in this lesson, if you wish."
   ]
  },
  {
   "cell_type": "code",
   "execution_count": 25,
   "metadata": {},
   "outputs": [
    {
     "name": "stdout",
     "output_type": "stream",
     "text": [
      "bread 2\n",
      "cheese 1.5\n",
      "salami 2.5\n",
      "mustard 1\n",
      "lettuce 1\n",
      "tomato 1\n"
     ]
    }
   ],
   "source": [
    "# your code here  \n",
    "\n",
    "my_sub = dict()\n",
    "\n",
    "my_sub['bread'] = 2\n",
    "my_sub['cheese'] = 1.5\n",
    "my_sub['salami'] = 2.5\n",
    "my_sub['mustard'] = 1\n",
    "my_sub['lettuce'] = 1\n",
    "my_sub['tomato'] = 1\n",
    "\n",
    "for k,v in my_sub.items():\n",
    "    print(k, v)"
   ]
  },
  {
   "cell_type": "markdown",
   "metadata": {},
   "source": [
    "## Practice 4\n",
    "Create a program that asks the user for a series of key-value pairs and assigns each pair to the same dictionary. Display the contents of the dictionary in  the last step, in the format \"key: value,\" with each key-value pair on a separate line."
   ]
  },
  {
   "cell_type": "code",
   "execution_count": 249,
   "metadata": {},
   "outputs": [
    {
     "name": "stdout",
     "output_type": "stream",
     "text": [
      "Please enter your name...\n",
      "name: Bobby\n",
      "Please enter your address...\n",
      "address: 123 Easy Street\n",
      "Please enter your city...\n",
      "city: Dallas\n",
      "Please enter your state...\n",
      "state: Texas\n",
      "Please enter your phone...\n",
      "phone: 6162231212\n",
      "{'name': 'Bobby', 'address': '123 Easy Street', 'city': 'Dallas', 'state': 'Texas', 'phone': '6162231212'}\n"
     ]
    }
   ],
   "source": [
    "# your code here\n",
    "\n",
    "info = {'name': '', 'address': '', 'city': '', 'state': '', 'phone': ''}\n",
    "\n",
    "\n",
    "def get_input():\n",
    "    x = [k for k in info.keys()]\n",
    "\n",
    "    i = 0\n",
    "    while i < len(info):\n",
    "        print(f'Please enter your {x[i]}...')\n",
    "        q = input()\n",
    "        print(f'{x[i]}: {q}')\n",
    "        info.update({x[i]: q})\n",
    "        i += 1\n",
    "\n",
    "    return print(info)\n",
    "\n",
    "\n",
    "get_input()\n"
   ]
  },
  {
   "cell_type": "markdown",
   "metadata": {},
   "source": [
    "## Practice 5\n",
    "The code below includes two lists: one for each state's abbreviation and the other for the full name of each state. Each list presents the states in the same order.\n",
    "\n",
    "Transform the lists into a single dictionary of key-value pairs, where:\n",
    "* The key is the state abbreviation\n",
    "* The value is the full state name\n",
    "\n",
    "Print the list of states from the dictionary, displaying both the abbreviation and the name of the state in the output."
   ]
  },
  {
   "cell_type": "code",
   "execution_count": 37,
   "metadata": {},
   "outputs": [
    {
     "name": "stdout",
     "output_type": "stream",
     "text": [
      "{'AL': 'Alabama', 'AK': 'Alaska', 'AZ': 'Arizona', 'AR': 'Arkansas', 'CA': 'California', 'CO': 'Colorado', 'CT': 'Connecticut', 'DE': 'Delaware', 'FL': 'Florida', 'GA': 'Georgia', 'HI': 'Hawaii', 'ID': 'Idaho', 'IL': 'Illinois', 'IN': 'Indiana', 'IA': 'Iowa', 'KS': 'Kansas', 'KY': 'Kentucky', 'LA': 'Louisiana', 'ME': 'Maine', 'MD': 'Maryland', 'MA': 'Massachusetts', 'MI': 'Michigan', 'MN': 'Minnesota', 'MS': 'Mississippi', 'MO': 'Missouri', 'MT': 'Montana', 'NE': 'Nebraska', 'NV': 'Nevada', 'NH': 'New Hampshire', 'NJ': 'New Jersey', 'NM': 'New Mexico', 'NY': 'New York', 'NC': 'North Carolina', 'ND': 'North Dakota', 'OH': 'Ohio', 'OK': 'Oklahoma', 'OR': 'Oregon', 'PA': 'Pennsylvania', 'RI': 'Rhode Island', 'SC': 'South Carolina', 'SD': 'South Dakota', 'TN': 'Tennessee', 'TX': 'Texas', 'UT': 'Utah', 'VT': 'Vermont', 'VA': 'Virginia', 'WA': 'Washington', 'WV': 'West Virginia', 'WI': 'Wisconsin', 'WY': 'Wyoming'}\n"
     ]
    }
   ],
   "source": [
    "states_abbrev = [\"AL\", \"AK\", \"AZ\", \"AR\", \"CA\", \"CO\", \"CT\", \"DE\", \"FL\", \"GA\", \n",
    "          \"HI\", \"ID\", \"IL\", \"IN\", \"IA\", \"KS\", \"KY\", \"LA\", \"ME\", \"MD\", \n",
    "          \"MA\", \"MI\", \"MN\", \"MS\", \"MO\", \"MT\", \"NE\", \"NV\", \"NH\", \"NJ\", \n",
    "          \"NM\", \"NY\", \"NC\", \"ND\", \"OH\", \"OK\", \"OR\", \"PA\", \"RI\", \"SC\", \n",
    "          \"SD\", \"TN\", \"TX\", \"UT\", \"VT\", \"VA\", \"WA\", \"WV\", \"WI\", \"WY\"]\n",
    "\n",
    "states_full = [\"Alabama\", \"Alaska\", \"Arizona\", \"Arkansas\", \"California\", \"Colorado\",\n",
    "  \"Connecticut\", \"Delaware\", \"Florida\", \"Georgia\", \"Hawaii\", \"Idaho\", \"Illinois\",\n",
    "  \"Indiana\", \"Iowa\", \"Kansas\", \"Kentucky\", \"Louisiana\", \"Maine\", \"Maryland\",\n",
    "  \"Massachusetts\", \"Michigan\", \"Minnesota\", \"Mississippi\", \"Missouri\", \"Montana\",\n",
    "  \"Nebraska\", \"Nevada\", \"New Hampshire\", \"New Jersey\", \"New Mexico\", \"New York\",\n",
    "  \"North Carolina\", \"North Dakota\", \"Ohio\", \"Oklahoma\", \"Oregon\", \"Pennsylvania\",\n",
    "  \"Rhode Island\", \"South Carolina\", \"South Dakota\", \"Tennessee\", \"Texas\", \"Utah\",\n",
    "  \"Vermont\", \"Virginia\", \"Washington\", \"West Virginia\", \"Wisconsin\", \"Wyoming\"]\n",
    "\n",
    "# your code here\n",
    "\n",
    "states_dict = dict(zip(states_abbrev, states_full))\n",
    "\n",
    "print(states_dict)"
   ]
  },
  {
   "cell_type": "markdown",
   "metadata": {},
   "source": [
    "##  Practice 6\n",
    "Now let's do the opposite of the last practice activity.\n",
    "\n",
    "Transform the dictionary below into two separate lists. One list should contain the state abbreviations, and the other one should contain the full name of each state. You must preserve the same order in both lists. \n",
    "\n",
    "Print both lists after they have been generated."
   ]
  },
  {
   "cell_type": "code",
   "execution_count": 36,
   "metadata": {},
   "outputs": [
    {
     "name": "stdout",
     "output_type": "stream",
     "text": [
      "['AK', 'AL', 'AR', 'AS', 'AZ', 'CA', 'CO', 'CT', 'DC', 'DE', 'FL', 'GA', 'GU', 'HI', 'IA', 'ID', 'IL', 'IN', 'KS', 'KY', 'LA', 'MA', 'MD', 'ME', 'MI', 'MN', 'MO', 'MP', 'MS', 'MT', 'NA', 'NC', 'ND', 'NE', 'NH', 'NJ', 'NM', 'NV', 'NY', 'OH', 'OK', 'OR', 'PA', 'PR', 'RI', 'SC', 'SD', 'TN', 'TX', 'UT', 'VA', 'VI', 'VT', 'WA', 'WI', 'WV', 'WY']\n",
      "['Alaska', 'Alabama', 'Arkansas', 'American Samoa', 'Arizona', 'California', 'Colorado', 'Connecticut', 'District of Columbia', 'Delaware', 'Florida', 'Georgia', 'Guam', 'Hawaii', 'Iowa', 'Idaho', 'Illinois', 'Indiana', 'Kansas', 'Kentucky', 'Louisiana', 'Massachusetts', 'Maryland', 'Maine', 'Michigan', 'Minnesota', 'Missouri', 'Northern Mariana Islands', 'Mississippi', 'Montana', 'National', 'North Carolina', 'North Dakota', 'Nebraska', 'New Hampshire', 'New Jersey', 'New Mexico', 'Nevada', 'New York', 'Ohio', 'Oklahoma', 'Oregon', 'Pennsylvania', 'Puerto Rico', 'Rhode Island', 'South Carolina', 'South Dakota', 'Tennessee', 'Texas', 'Utah', 'Virginia', 'Virgin Islands', 'Vermont', 'Washington', 'Wisconsin', 'West Virginia', 'Wyoming']\n"
     ]
    }
   ],
   "source": [
    "states = {\n",
    "        'AK': 'Alaska',\n",
    "        'AL': 'Alabama',\n",
    "        'AR': 'Arkansas',\n",
    "        'AS': 'American Samoa',\n",
    "        'AZ': 'Arizona',\n",
    "        'CA': 'California',\n",
    "        'CO': 'Colorado',\n",
    "        'CT': 'Connecticut',\n",
    "        'DC': 'District of Columbia',\n",
    "        'DE': 'Delaware',\n",
    "        'FL': 'Florida',\n",
    "        'GA': 'Georgia',\n",
    "        'GU': 'Guam',\n",
    "        'HI': 'Hawaii',\n",
    "        'IA': 'Iowa',\n",
    "        'ID': 'Idaho',\n",
    "        'IL': 'Illinois',\n",
    "        'IN': 'Indiana',\n",
    "        'KS': 'Kansas',\n",
    "        'KY': 'Kentucky',\n",
    "        'LA': 'Louisiana',\n",
    "        'MA': 'Massachusetts',\n",
    "        'MD': 'Maryland',\n",
    "        'ME': 'Maine',\n",
    "        'MI': 'Michigan',\n",
    "        'MN': 'Minnesota',\n",
    "        'MO': 'Missouri',\n",
    "        'MP': 'Northern Mariana Islands',\n",
    "        'MS': 'Mississippi',\n",
    "        'MT': 'Montana',\n",
    "        'NA': 'National',\n",
    "        'NC': 'North Carolina',\n",
    "        'ND': 'North Dakota',\n",
    "        'NE': 'Nebraska',\n",
    "        'NH': 'New Hampshire',\n",
    "        'NJ': 'New Jersey',\n",
    "        'NM': 'New Mexico',\n",
    "        'NV': 'Nevada',\n",
    "        'NY': 'New York',\n",
    "        'OH': 'Ohio',\n",
    "        'OK': 'Oklahoma',\n",
    "        'OR': 'Oregon',\n",
    "        'PA': 'Pennsylvania',\n",
    "        'PR': 'Puerto Rico',\n",
    "        'RI': 'Rhode Island',\n",
    "        'SC': 'South Carolina',\n",
    "        'SD': 'South Dakota',\n",
    "        'TN': 'Tennessee',\n",
    "        'TX': 'Texas',\n",
    "        'UT': 'Utah',\n",
    "        'VA': 'Virginia',\n",
    "        'VI': 'Virgin Islands',\n",
    "        'VT': 'Vermont',\n",
    "        'WA': 'Washington',\n",
    "        'WI': 'Wisconsin',\n",
    "        'WV': 'West Virginia',\n",
    "        'WY': 'Wyoming'\n",
    "}\n",
    "\n",
    "# your code here\n",
    "states_abbrev = list(states.keys())\n",
    "states_full = list(states.values())\n",
    "\n",
    "print(states_abbrev)\n",
    "print(states_full)"
   ]
  },
  {
   "cell_type": "markdown",
   "metadata": {},
   "source": [
    "## Practice 7\n",
    "Complete the program below to include the following steps: \n",
    "* Ask the user for a state abbreviation.\n",
    "* Display the full name of the state if it exists in the dictionary or an error message if the abbreviation does not exist in the dictionary."
   ]
  },
  {
   "cell_type": "code",
   "execution_count": 209,
   "metadata": {},
   "outputs": [
    {
     "name": "stdout",
     "output_type": "stream",
     "text": [
      "Please enter a state abbreviation...\n",
      "sorry, try again!\n",
      "AR: Arkansas\n"
     ]
    }
   ],
   "source": [
    "states = {\n",
    "        'AK': 'Alaska',\n",
    "        'AL': 'Alabama',\n",
    "        'AR': 'Arkansas',\n",
    "        'AS': 'American Samoa',\n",
    "        'AZ': 'Arizona',\n",
    "        'CA': 'California',\n",
    "        'CO': 'Colorado',\n",
    "        'CT': 'Connecticut',\n",
    "        'DE': 'Delaware',\n",
    "        'FL': 'Florida',\n",
    "        'GA': 'Georgia',\n",
    "        'GU': 'Guam',\n",
    "        'HI': 'Hawaii',\n",
    "        'IA': 'Iowa',\n",
    "        'ID': 'Idaho',\n",
    "        'IL': 'Illinois',\n",
    "        'IN': 'Indiana',\n",
    "        'KS': 'Kansas',\n",
    "        'KY': 'Kentucky',\n",
    "        'LA': 'Louisiana',\n",
    "        'MA': 'Massachusetts',\n",
    "        'MD': 'Maryland',\n",
    "        'ME': 'Maine',\n",
    "        'MI': 'Michigan',\n",
    "        'MN': 'Minnesota',\n",
    "        'MO': 'Missouri',\n",
    "        'MP': 'Northern Mariana Islands',\n",
    "        'MS': 'Mississippi',\n",
    "        'MT': 'Montana',\n",
    "        'NA': 'National',\n",
    "        'NC': 'North Carolina',\n",
    "        'ND': 'North Dakota',\n",
    "        'NE': 'Nebraska',\n",
    "        'NH': 'New Hampshire',\n",
    "        'NJ': 'New Jersey',\n",
    "        'NM': 'New Mexico',\n",
    "        'NV': 'Nevada',\n",
    "        'NY': 'New York',\n",
    "        'OH': 'Ohio',\n",
    "        'OK': 'Oklahoma',\n",
    "        'OR': 'Oregon',\n",
    "        'PA': 'Pennsylvania',\n",
    "        'PR': 'Puerto Rico',\n",
    "        'RI': 'Rhode Island',\n",
    "        'SC': 'South Carolina',\n",
    "        'SD': 'South Dakota',\n",
    "        'TN': 'Tennessee',\n",
    "        'TX': 'Texas',\n",
    "        'UT': 'Utah',\n",
    "        'VA': 'Virginia',\n",
    "        'VI': 'Virgin Islands',\n",
    "        'VT': 'Vermont',\n",
    "        'WA': 'Washington',\n",
    "        'WI': 'Wisconsin',\n",
    "        'WV': 'West Virginia',\n",
    "        'WY': 'Wyoming'\n",
    "}\n",
    "\n",
    "# your code here\n",
    "\n",
    "def get_input():\n",
    "    print('Please enter a state abbreviation...')\n",
    "    i = 0\n",
    "    while i < 1:\n",
    "        q = input().upper()\n",
    "        if states.keys().__contains__(q):\n",
    "          i += 1\n",
    "          return print(f'{q}: {states.get(q)}')\n",
    "        else:\n",
    "            print('sorry, try again!')\n",
    "            continue\n",
    "\n",
    "\n",
    "get_input()"
   ]
  },
  {
   "cell_type": "markdown",
   "metadata": {},
   "source": [
    "## Practice 8\n",
    "Add the `clear` method in the program below to empty the dictionary and include only the key-value pair `('X10002','Karen')`.  \n",
    "\n",
    "**Hint**: Do not add the Karen record more than one time."
   ]
  },
  {
   "cell_type": "code",
   "execution_count": 184,
   "metadata": {},
   "outputs": [
    {
     "name": "stdout",
     "output_type": "stream",
     "text": [
      "{'X10002': 'Karen'}\n"
     ]
    }
   ],
   "source": [
    "# your code here \n",
    "\n",
    "students_dict = dict()\n",
    "students_dict['X10000']='Michael'\n",
    "students_dict['X10001']='Neil'\n",
    "students_dict['X10002']='Karen'\n",
    "\n",
    "c = {k:v for k,v in students_dict.copy().items() if v == 'Karen'}\n",
    "\n",
    "students_dict.clear()\n",
    "students_dict.update(c)\n",
    "\n",
    "print(students_dict)"
   ]
  },
  {
   "cell_type": "markdown",
   "metadata": {},
   "source": [
    "## Practice 9\n",
    "Using the following code as your starting point, complete the following steps:\n",
    "* Create a copy of the `states` dictionary. \n",
    "* Add key-value pairs that represent US districts and territories to the new dictionary.\n",
    " \n",
    "Use this list of districts and territories:\n",
    "* AS: American Samoa\n",
    "* DC: District of Columbia\n",
    "* GU: Guam\n",
    "* NMI: Northern Mariana Islands\n",
    "* PR: Puerto Rico\n",
    "* USVI: U.S. Virgin Islands"
   ]
  },
  {
   "cell_type": "code",
   "execution_count": 180,
   "metadata": {},
   "outputs": [
    {
     "name": "stdout",
     "output_type": "stream",
     "text": [
      "{'AK': 'Alaska', 'AL': 'Alabama', 'AR': 'Arkansas', 'AS': 'American Samoa', 'AZ': 'Arizona', 'CA': 'California', 'CO': 'Colorado', 'CT': 'Connecticut', 'DC': 'District of Columbia', 'DE': 'Delaware', 'FL': 'Florida', 'GA': 'Georgia', 'GU': 'Guam', 'HI': 'Hawaii', 'IA': 'Iowa', 'ID': 'Idaho', 'IL': 'Illinois', 'IN': 'Indiana', 'KS': 'Kansas', 'KY': 'Kentucky', 'LA': 'Louisiana', 'MA': 'Massachusetts', 'MD': 'Maryland', 'ME': 'Maine', 'MI': 'Michigan', 'MN': 'Minnesota', 'MO': 'Missouri', 'MP': 'Northern Mariana Islands', 'MS': 'Mississippi', 'MT': 'Montana', 'NA': 'National', 'NC': 'North Carolina', 'ND': 'North Dakota', 'NE': 'Nebraska', 'NH': 'New Hampshire', 'NJ': 'New Jersey', 'NM': 'New Mexico', 'NMI': 'Northern Mariana Islands', 'NV': 'Nevada', 'NY': 'New York', 'OH': 'Ohio', 'OK': 'Oklahoma', 'OR': 'Oregon', 'PA': 'Pennsylvania', 'PR': 'Puerto Rico', 'RI': 'Rhode Island', 'SC': 'South Carolina', 'SD': 'South Dakota', 'TN': 'Tennessee', 'TX': 'Texas', 'USVI': 'U.S. Virgin Islands', 'UT': 'Utah', 'VA': 'Virginia', 'VI': 'Virgin Islands', 'VT': 'Vermont', 'WA': 'Washington', 'WI': 'Wisconsin', 'WV': 'West Virginia', 'WY': 'Wyoming'}\n"
     ]
    }
   ],
   "source": [
    "states = {\n",
    "    'AK': 'Alaska',\n",
    "    'AL': 'Alabama',\n",
    "    'AR': 'Arkansas',\n",
    "    'AZ': 'Arizona',\n",
    "    'CA': 'California',\n",
    "    'CO': 'Colorado',\n",
    "    'CT': 'Connecticut',\n",
    "    'DE': 'Delaware',\n",
    "    'FL': 'Florida',\n",
    "    'GA': 'Georgia',\n",
    "    'HI': 'Hawaii',\n",
    "    'IA': 'Iowa',\n",
    "    'ID': 'Idaho',\n",
    "    'IL': 'Illinois',\n",
    "    'IN': 'Indiana',\n",
    "    'KS': 'Kansas',\n",
    "    'KY': 'Kentucky',\n",
    "    'LA': 'Louisiana',\n",
    "    'MA': 'Massachusetts',\n",
    "    'MD': 'Maryland',\n",
    "    'ME': 'Maine',\n",
    "    'MI': 'Michigan',\n",
    "    'MN': 'Minnesota',\n",
    "    'MO': 'Missouri',\n",
    "    'MP': 'Northern Mariana Islands',\n",
    "    'MS': 'Mississippi',\n",
    "    'MT': 'Montana',\n",
    "    'NA': 'National',\n",
    "    'NC': 'North Carolina',\n",
    "    'ND': 'North Dakota',\n",
    "    'NE': 'Nebraska',\n",
    "    'NH': 'New Hampshire',\n",
    "    'NJ': 'New Jersey',\n",
    "    'NM': 'New Mexico',\n",
    "    'NV': 'Nevada',\n",
    "    'NY': 'New York',\n",
    "    'OH': 'Ohio',\n",
    "    'OK': 'Oklahoma',\n",
    "    'OR': 'Oregon',\n",
    "    'PA': 'Pennsylvania',\n",
    "    'RI': 'Rhode Island',\n",
    "    'SC': 'South Carolina',\n",
    "    'SD': 'South Dakota',\n",
    "    'TN': 'Tennessee',\n",
    "    'TX': 'Texas',\n",
    "    'UT': 'Utah',\n",
    "    'VA': 'Virginia',\n",
    "    'VI': 'Virgin Islands',\n",
    "    'VT': 'Vermont',\n",
    "    'WA': 'Washington',\n",
    "    'WI': 'Wisconsin',\n",
    "    'WV': 'West Virginia',\n",
    "    'WY': 'Wyoming'\n",
    "}\n",
    "\n",
    "# your code here\n",
    "\n",
    "add_states = {\n",
    "    'AS': 'American Samoa',\n",
    "    'DC': 'District of Columbia',\n",
    "    'GU': 'Guam',\n",
    "    'NMI': 'Northern Mariana Islands',\n",
    "    'PR': 'Puerto Rico',\n",
    "    'USVI': 'U.S. Virgin Islands'\n",
    "}\n",
    "\n",
    "copy = states | add_states \n",
    "copy = dict(sorted((copy.copy().items())))\n",
    "\n",
    "print(copy)\n"
   ]
  },
  {
   "cell_type": "markdown",
   "metadata": {},
   "source": [
    "## Practice 10\n",
    "Using the `states` dictionary defined below, move all states that start with M to a new dictionary.\n",
    "\n",
    "Requirements:\n",
    "* The new dictionary should include the abbreviation and name for each state moved out of the `states` dictionary.\n",
    "* Use the `pop()` method to remove the states from the `states` dictionary.\n"
   ]
  },
  {
   "cell_type": "code",
   "execution_count": 102,
   "metadata": {},
   "outputs": [
    {
     "name": "stdout",
     "output_type": "stream",
     "text": [
      "{'MA': 'Massachusetts', 'MD': 'Maryland', 'ME': 'Maine', 'MI': 'Michigan', 'MN': 'Minnesota', 'MO': 'Missouri', 'MP': 'Northern Mariana Islands', 'MS': 'Mississippi', 'MT': 'Montana'}\n"
     ]
    }
   ],
   "source": [
    "states = {\n",
    "    'AK': 'Alaska',\n",
    "    'AL': 'Alabama',\n",
    "    'AR': 'Arkansas',\n",
    "    'AS': 'American Samoa',\n",
    "    'AZ': 'Arizona',\n",
    "    'CA': 'California',\n",
    "    'CO': 'Colorado',\n",
    "    'CT': 'Connecticut',\n",
    "    'DE': 'Delaware',\n",
    "    'FL': 'Florida',\n",
    "    'GA': 'Georgia',\n",
    "    'GU': 'Guam',\n",
    "    'HI': 'Hawaii',\n",
    "    'IA': 'Iowa',\n",
    "    'ID': 'Idaho',\n",
    "    'IL': 'Illinois',\n",
    "    'IN': 'Indiana',\n",
    "    'KS': 'Kansas',\n",
    "    'KY': 'Kentucky',\n",
    "    'LA': 'Louisiana',\n",
    "    'MA': 'Massachusetts',\n",
    "    'MD': 'Maryland',\n",
    "    'ME': 'Maine',\n",
    "    'MI': 'Michigan',\n",
    "    'MN': 'Minnesota',\n",
    "    'MO': 'Missouri',\n",
    "    'MP': 'Northern Mariana Islands',\n",
    "    'MS': 'Mississippi',\n",
    "    'MT': 'Montana',\n",
    "    'NA': 'National',\n",
    "    'NC': 'North Carolina',\n",
    "    'ND': 'North Dakota',\n",
    "    'NE': 'Nebraska',\n",
    "    'NH': 'New Hampshire',\n",
    "    'NJ': 'New Jersey',\n",
    "    'NM': 'New Mexico',\n",
    "    'NV': 'Nevada',\n",
    "    'NY': 'New York',\n",
    "    'OH': 'Ohio',\n",
    "    'OK': 'Oklahoma',\n",
    "    'OR': 'Oregon',\n",
    "    'PA': 'Pennsylvania',\n",
    "    'PR': 'Puerto Rico',\n",
    "    'RI': 'Rhode Island',\n",
    "    'SC': 'South Carolina',\n",
    "    'SD': 'South Dakota',\n",
    "    'TN': 'Tennessee',\n",
    "    'TX': 'Texas',\n",
    "    'UT': 'Utah',\n",
    "    'VA': 'Virginia',\n",
    "    'VI': 'Virgin Islands',\n",
    "    'VT': 'Vermont',\n",
    "    'WA': 'Washington',\n",
    "    'WI': 'Wisconsin',\n",
    "    'WV': 'West Virginia',\n",
    "    'WY': 'Wyoming'\n",
    "}\n",
    "\n",
    "# your code here\n",
    "\n",
    "{states.pop(k) for k in states.copy().keys() if k[:1] != 'M'}\n",
    "\n",
    "print(states)"
   ]
  },
  {
   "cell_type": "markdown",
   "metadata": {},
   "source": [
    "## Practice 11\n",
    "Use the `update()` method to change the dictionary below to include information about yourself. Include at least two hobbies and use a random address, if you wish."
   ]
  },
  {
   "cell_type": "code",
   "execution_count": 185,
   "metadata": {},
   "outputs": [
    {
     "name": "stdout",
     "output_type": "stream",
     "text": [
      "{'name': 'Matt', 'hobbies': ['paddle boating', 'roller coasters', 'ski ball'], 'address': '301 Nunya Street, Detroit, MI'}\n"
     ]
    }
   ],
   "source": [
    "info = {\n",
    "  \"name\": \"Robert\",\n",
    "  \"hobbies\": ['fishing','dancing'],\n",
    "  \"address\": \"123 Main Street, Louisville, KY\"\n",
    "}\n",
    "\n",
    "info.update({\n",
    "  'name': 'Matt',\n",
    "  'hobbies': ['paddle boating', 'roller coasters', 'ski ball'],\n",
    "  'address': '301 Nunya Street, Detroit, MI'\n",
    "})\n",
    "\n",
    "print(info)"
   ]
  },
  {
   "cell_type": "markdown",
   "metadata": {},
   "source": [
    "## Practice 12\n",
    "Update the program below to include the following tasks:\n",
    "* Ask the user for an input key.\n",
    "* Check if the key exists in the dictionary. If it does, display the value.\n",
    "* If the key doesn't exist, display an appropriate error message. "
   ]
  },
  {
   "cell_type": "code",
   "execution_count": 208,
   "metadata": {},
   "outputs": [
    {
     "name": "stdout",
     "output_type": "stream",
     "text": [
      "Please enter an input key...\n",
      "sorry, try again!\n",
      "name: Robert\n"
     ]
    }
   ],
   "source": [
    "info = {\n",
    "    \"name\": \"Robert\",\n",
    "    \"hobbies\": ['fishing', 'dancing'],\n",
    "    \"address\": \"123 Main Street, Louisville, KY\"\n",
    "}\n",
    "\n",
    "# your code here\n",
    "\n",
    "\n",
    "def get_input():\n",
    "    print('Please enter an input key...')\n",
    "    i = 0\n",
    "    while i < 1:\n",
    "        q = input().lower()\n",
    "        if info.keys().__contains__(q):\n",
    "            i += 1\n",
    "            return print(f'{q}: {info.get(q)}')\n",
    "        else:\n",
    "            print('sorry, try again!')\n",
    "            continue\n",
    "\n",
    "\n",
    "get_input()\n"
   ]
  }
 ],
 "metadata": {
  "kernelspec": {
   "display_name": "Python 3",
   "language": "python",
   "name": "python3"
  },
  "language_info": {
   "codemirror_mode": {
    "name": "ipython",
    "version": 3
   },
   "file_extension": ".py",
   "mimetype": "text/x-python",
   "name": "python",
   "nbconvert_exporter": "python",
   "pygments_lexer": "ipython3",
   "version": "3.10.2"
  }
 },
 "nbformat": 4,
 "nbformat_minor": 2
}

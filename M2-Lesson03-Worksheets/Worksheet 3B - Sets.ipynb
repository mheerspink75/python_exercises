{
 "cells": [
  {
   "cell_type": "markdown",
   "metadata": {},
   "source": [
    "# Worksheet 3B: Sets\n",
    "This worksheet corresponds to *Lesson 3B: Sets* in the online course. Refer to that lesson as necessary to complete these practice exercises."
   ]
  },
  {
   "cell_type": "markdown",
   "metadata": {},
   "source": [
    "## Practice 1\n",
    "Create a set that contains a collection of your favorite fruits. "
   ]
  },
  {
   "cell_type": "code",
   "execution_count": 1,
   "metadata": {},
   "outputs": [],
   "source": [
    "# your code here\n",
    "my_fruits = {'apple', 'banana', 'pear', 'orange',\n",
    "             'grape', 'mango', 'pineapple', 'peach'}\n"
   ]
  },
  {
   "cell_type": "markdown",
   "metadata": {},
   "source": [
    "## Practice 2\n",
    "Using the set of fruits you created in the previous exercise, retrieve the items from the set so that each item appears on a separate line in the output."
   ]
  },
  {
   "cell_type": "code",
   "execution_count": 4,
   "metadata": {},
   "outputs": [
    {
     "name": "stdout",
     "output_type": "stream",
     "text": [
      "peach\n",
      "pineapple\n",
      "orange\n",
      "grape\n",
      "apple\n",
      "pear\n",
      "mango\n",
      "banana\n"
     ]
    }
   ],
   "source": [
    "# your code here\n",
    "my_fruits = {'apple', 'banana', 'pear', 'orange',\n",
    "             'grape', 'mango', 'pineapple', 'peach'}\n",
    "\n",
    "for fruit in my_fruits:\n",
    "    print(fruit)\n"
   ]
  },
  {
   "cell_type": "markdown",
   "metadata": {},
   "source": [
    "## Practice 4\n",
    "Create a set with at least three fruit items in it and print it. Then add at least three more items to the set and print the updated set."
   ]
  },
  {
   "cell_type": "code",
   "execution_count": 13,
   "metadata": {},
   "outputs": [
    {
     "name": "stdout",
     "output_type": "stream",
     "text": [
      "{'peach', 'pineapple', 'orange', 'grape', 'apple', 'pear', 'mango', 'banana'}\n",
      "{'peach', 'raspberry', 'apricot', 'pineapple', 'cranberry', 'honeydew', 'orange', 'grape', 'apple', 'pear', 'mango', 'banana'}\n"
     ]
    }
   ],
   "source": [
    "# your code here\n",
    "my_fruits = {'apple', 'banana', 'pear', 'orange',\n",
    "             'grape', 'mango', 'pineapple', 'peach'}\n",
    "print(my_fruits)\n",
    "\n",
    "my_fruits.update({'cranberry', 'apricot', 'raspberry', 'honeydew'})\n",
    "print(my_fruits)\n"
   ]
  },
  {
   "cell_type": "markdown",
   "metadata": {},
   "source": [
    "## Practice 4a\n",
    "Use the `add()` method to convert the `names` list into a set called `names_set`. \n",
    "\n",
    "Use the following steps:\n",
    "* Create a new empty set.\n",
    "* Add the items from the list to the new set.\n",
    "* Print the set when it is complete."
   ]
  },
  {
   "cell_type": "code",
   "execution_count": 37,
   "metadata": {},
   "outputs": [
    {
     "name": "stdout",
     "output_type": "stream",
     "text": [
      "['Robert', 'Mark', 'Nick', 'Jenny']\n",
      "{'Nick', 'Jenny', 'Mark', 'Robert'}\n"
     ]
    }
   ],
   "source": [
    "names = [\"Robert\", \"Mark\", \"Nick\", \"Jenny\"]  # do not change this\n",
    "print(names)\n",
    "\n",
    "# your code here\n",
    "names_set = set(names[:3])\n",
    "names_set.add(names[-1])\n",
    "print(names_set)\n"
   ]
  },
  {
   "cell_type": "markdown",
   "metadata": {},
   "source": [
    "## Practice 4b\n",
    "Fix the errors in following code. Do not remove any existing instructions or add new instructions."
   ]
  },
  {
   "cell_type": "code",
   "execution_count": 44,
   "metadata": {
    "scrolled": true
   },
   "outputs": [
    {
     "name": "stdout",
     "output_type": "stream",
     "text": [
      "{'Nick', 'Jenny', 'Mark', 'Robert'}\n",
      "{'Nick', 'Jenny', 'Mark', 'Robert'}\n"
     ]
    }
   ],
   "source": [
    "names = {\"Robert\", \"Mark\", \"Nick\", \"Jenny\"}\n",
    "print(names)\n",
    "\n",
    "another_set = set()\n",
    "another_set = names\n",
    "print(another_set)\n"
   ]
  },
  {
   "cell_type": "markdown",
   "metadata": {},
   "source": [
    "## Practice 5\n",
    "Convert the `names` list into a set called `names_set` and print the set. "
   ]
  },
  {
   "cell_type": "code",
   "execution_count": 46,
   "metadata": {},
   "outputs": [
    {
     "name": "stdout",
     "output_type": "stream",
     "text": [
      "['Robert', 'Mark', 'Nancy', 'Robert', 'Mark', 'Jenny', 'Robert']\n",
      "{'Nancy', 'Jenny', 'Mark', 'Robert'}\n"
     ]
    }
   ],
   "source": [
    "names = [\"Robert\", \"Mark\", \"Nancy\", \"Robert\", \"Mark\",\n",
    "         \"Jenny\", \"Robert\"]  # do not change this line of code\n",
    "print(names)\n",
    "\n",
    "# your code here\n",
    "names_set = set(names)\n",
    "print(names_set)\n"
   ]
  },
  {
   "cell_type": "markdown",
   "metadata": {},
   "source": [
    "## Practice 6\n",
    "Create a program that performs the following steps:\n",
    "1. Prompt the user for a state abbreviation.\n",
    "2. Return a success message if the user entered a valid state abbreviation.\n",
    "3. Return an error message if the user entered an invalid state abbreviation.\n",
    "\n",
    "The final version of the code should support both uppercase and lowercase input. For example, the user should be able to input \"FL,\" \"Fl,\" \"fL,\" or \"fl\" and get the same response."
   ]
  },
  {
   "cell_type": "code",
   "execution_count": 59,
   "metadata": {},
   "outputs": [
    {
     "name": "stdout",
     "output_type": "stream",
     "text": [
      "Enter a state abbreviation MN\n",
      "MN is in the set!\n"
     ]
    }
   ],
   "source": [
    "states_abbrev = {\"AL\", \"AK\", \"AZ\", \"AR\", \"CA\", \"CO\", \"CT\", \"DE\", \"FL\", \"GA\",\n",
    "                 \"HI\", \"ID\", \"IL\", \"IN\", \"IA\", \"KS\", \"KY\", \"LA\", \"ME\", \"MD\",\n",
    "                 \"MA\", \"MI\", \"MN\", \"MS\", \"MO\", \"MT\", \"NE\", \"NV\", \"NH\", \"NJ\",\n",
    "                 \"NM\", \"NY\", \"NC\", \"ND\", \"OH\", \"OK\", \"OR\", \"PA\", \"RI\", \"SC\",\n",
    "                 \"SD\", \"TN\", \"TX\", \"UT\", \"VT\", \"VA\", \"WA\", \"WV\", \"WI\", \"WY\"}\n",
    "\n",
    "# your code here\n",
    "\n",
    "\n",
    "def get_states():\n",
    "    q = input('Enter a state abbreviation')\n",
    "    if q.upper() in states_abbrev:\n",
    "        print(q.upper(), 'is in the set!')\n",
    "    else:\n",
    "        print(q.upper(), 'is not in the set...')\n",
    "\n",
    "\n",
    "get_states()\n"
   ]
  },
  {
   "cell_type": "markdown",
   "metadata": {},
   "source": [
    "## Practice 7\n",
    "Create a script that keeps asking the user for input until the user enters \"quit\" (uppercase or lowercase).\n",
    "* Each input value should be added to a set. \n",
    "* When the user enters \"quit,\" the program should display all distinct values entered by the user, with each word on a separate line."
   ]
  },
  {
   "cell_type": "code",
   "execution_count": 1,
   "metadata": {},
   "outputs": [
    {
     "name": "stdout",
     "output_type": "stream",
     "text": [
      "quit added to set\n",
      "QUIT\n",
      "quit\n"
     ]
    }
   ],
   "source": [
    "# your code here\n",
    "\n",
    "def get_q():\n",
    "    s = set()\n",
    "\n",
    "    i = 0\n",
    "    while i < 1:\n",
    "        q = input('Enter an item to add to the set.. Q to quit!')\n",
    "        if q == 'q':\n",
    "            print('QUIT')\n",
    "            for items in s:\n",
    "                print(items)\n",
    "            i += 1\n",
    "            break\n",
    "        else:\n",
    "            s.add(q)\n",
    "            print(q, 'added to set')\n",
    "            continue\n",
    "\n",
    "\n",
    "get_q()\n"
   ]
  },
  {
   "cell_type": "markdown",
   "metadata": {},
   "source": [
    "## Practice 8\n",
    "Create a program that performs the following steps:\n",
    "1. Prompt the user for an integer.\n",
    "1. Ask the user to enter that many words.\n",
    "1. Display the set of words provided by the user.\n",
    "\n",
    "For example, if the user enters 5, the program will ask the user for 5 different words that it will store in a set. \n",
    "\n",
    "When the user finishes entering the items of the set, the program displays the set to the user."
   ]
  },
  {
   "cell_type": "code",
   "execution_count": 21,
   "metadata": {},
   "outputs": [
    {
     "name": "stdout",
     "output_type": "stream",
     "text": [
      "Word 1: \"one\" added to set\n",
      "Word 2: \"two\" added to set\n",
      "Word 3: \"three\" added to set\n",
      "Your set: {'one', 'two', 'three'}\n"
     ]
    }
   ],
   "source": [
    "# your code here\n",
    "\n",
    "def get_q():\n",
    "    s = set()\n",
    "    q = input('Enter a positive whole number... ')\n",
    "    if q.isnumeric():\n",
    "        i = 0\n",
    "        while i < int(q):\n",
    "            a = input('Enter a word... ')\n",
    "            s.add(a)\n",
    "            print(f'Word {i + 1}: \"{a}\" added to set')\n",
    "            i += 1\n",
    "            continue\n",
    "        return print(f'Your set: {s}')\n",
    "    else:\n",
    "        print('Try again...')\n",
    "        return get_q()\n",
    "\n",
    "\n",
    "get_q()\n"
   ]
  },
  {
   "cell_type": "markdown",
   "metadata": {},
   "source": [
    "## Practice 9\n",
    "Complete the code below, using the `in` operator and the `remove()` method, to create a script that will remove items from a set.\n",
    "* If the item exists, remove the item and display the current set with the item removed.\n",
    "* If the item does **not** exist, display an appropriate, user-friendly message and list the items currently in the set.\n",
    "\n",
    "The program should **not** throw an error if the item doesn't exist. This means that the script should check if the item exists in the set and remove the item only if it is included in the current set."
   ]
  },
  {
   "cell_type": "code",
   "execution_count": 69,
   "metadata": {},
   "outputs": [
    {
     "name": "stdout",
     "output_type": "stream",
     "text": [
      "{'burger', 'pizza', 'pasta', 'hotdog'}\n",
      "choose and item to remove from the set... hotdog\n",
      "hotdog removed from set {'burger', 'pizza', 'pasta'}\n"
     ]
    }
   ],
   "source": [
    "food = {\"pasta\", \"burger\", \"hotdog\", \"pizza\"}\n",
    "\n",
    "\n",
    "# the remove shouldn't throw an error.\n",
    "\n",
    "def remove_items():\n",
    "    print(food)\n",
    "    q = input('choose and item to remove from the set...')\n",
    "    if q in food:\n",
    "        food.remove(q)\n",
    "        print(q, 'removed from set', food)\n",
    "    else:\n",
    "        print(q, 'not in set...')\n",
    "\n",
    "\n",
    "remove_items()\n"
   ]
  },
  {
   "cell_type": "markdown",
   "metadata": {},
   "source": [
    "## Practice 10\n",
    "Update the following code to include a user prompt. \n",
    "* If the user inputs a string that corresponds to the variable name of one of the sets below, clear the set using the `clear()` method.\n",
    "* If there is no set that matches the user input, display an error message that the set doesn't exist. "
   ]
  },
  {
   "cell_type": "code",
   "execution_count": 15,
   "metadata": {},
   "outputs": [
    {
     "name": "stdout",
     "output_type": "stream",
     "text": [
      "hi Does Not Exist...\n",
      "banana found!\n",
      "shake_1 set() cleared...\n",
      "shake_3 set() cleared...\n"
     ]
    }
   ],
   "source": [
    "shake_1 = {\"banana\", \"blueberry\", \"spinach\"}\n",
    "shake_2 = {\"strawberry\", \"pistachio\", \"cocoa powder\"}\n",
    "shake_3 = {\"kiwi\", \"banana\", \"peanut butter\"}\n",
    "\n",
    "\n",
    "# your code here\n",
    "\n",
    "def get_shake():\n",
    "    a = input('Enter a word... ')\n",
    "    if not (shake_1 and shake_2 and shake_3).__contains__(a):\n",
    "        print(a, 'Does Not Exist...')\n",
    "        return get_shake()\n",
    "    else:\n",
    "        print(a, \"found!\")\n",
    "        if shake_1.__contains__(a):\n",
    "            shake_1.clear()\n",
    "            print(f'shake_1 {shake_1} cleared...')\n",
    "        if shake_2.__contains__(a):\n",
    "            shake_2.clear()\n",
    "            print(f'shake_2 {shake_2} cleared...')\n",
    "        if shake_3.__contains__(a):\n",
    "            shake_3.clear()\n",
    "            print(f'shake_3 {shake_3} cleared...')\n",
    "\n",
    "\n",
    "get_shake()\n"
   ]
  },
  {
   "cell_type": "markdown",
   "metadata": {},
   "source": [
    "## Practice 11\n",
    "Create a script that performs the following steps:\n",
    "* Display the set to the user along with the number of items in the set.\n",
    "* If there are no items in the set, display an output message to that effect and end the script.\n",
    "* Ask the user if they want to remove an item from the set.\n",
    "* If the user says yes:\n",
    "    * Verify that there is at least one item in the set.\n",
    "    * Remove a random item from the set.\n",
    "    * Display the updated set to the user.\n",
    "    * Prompt the user to remove another item.\n",
    "* If the user says no, end the script.\n",
    "\n",
    "You cannot use the `clear()`, `remove()`, or `discard()` methods in your solution. "
   ]
  },
  {
   "cell_type": "code",
   "execution_count": 16,
   "metadata": {},
   "outputs": [
    {
     "name": "stdout",
     "output_type": "stream",
     "text": [
      "items: 4 {'pasta', 'pizza', 'hotdog', 'burger'}\n",
      "items: 3 {'pizza', 'hotdog', 'burger'}\n",
      "items: 2 {'hotdog', 'burger'}\n",
      "Try Again... y/n \n",
      "items: 2 {'hotdog', 'burger'}\n",
      "Try Again... y/n \n",
      "items: 2 {'hotdog', 'burger'}\n",
      "items: 1 {'burger'}\n",
      "items: 0, Goodbye!\n"
     ]
    }
   ],
   "source": [
    "food = {\"pasta\", \"burger\", \"hotdog\", \"pizza\"}\n",
    "\n",
    "\n",
    "# your code here\n",
    "\n",
    "def remove_items():\n",
    "    while len(food) > 0:\n",
    "        print('items:', len(food), food)\n",
    "        q = input('Remove an item from the set? y/n ')\n",
    "\n",
    "        if q != 'y' and 'n':\n",
    "            print('Try Again... y/n ')\n",
    "        if q == 'n':\n",
    "            return print(q, 'Goodbye!')\n",
    "        if q == 'y':\n",
    "            food.pop()\n",
    "            continue\n",
    "\n",
    "    if len(food) == 0:\n",
    "        return print('items: 0, Goodbye!')\n",
    "\n",
    "\n",
    "remove_items()\n"
   ]
  },
  {
   "cell_type": "markdown",
   "metadata": {},
   "source": [
    "## Practice 12\n",
    "Complete the code below to ask the user for input. \n",
    "* If the user inputs a string that corresponds to the variable name of one of the sets below, delete that set using `del`.\n",
    "* If there is no set with that name, display an error message that the set doesn't exist. "
   ]
  },
  {
   "cell_type": "code",
   "execution_count": 14,
   "metadata": {},
   "outputs": [
    {
     "name": "stdout",
     "output_type": "stream",
     "text": [
      "hi does not exist...\n",
      "banana found! shake_1 deleted!\n",
      "banana found! shake_3 deleted!\n"
     ]
    }
   ],
   "source": [
    "def del_shake():\n",
    "    shake_1 = {\"banana\", \"blueberry\", \"spinach\"}\n",
    "    shake_2 = {\"strawberry\", \"pistachio\", \"cocoa powder\"}\n",
    "    shake_3 = {\"kiwi\", \"banana\", \"peanut butter\"}\n",
    "\n",
    "    q = input('Enter a word...')\n",
    "\n",
    "    if (shake_1 and shake_2 and shake_3).__contains__(q):\n",
    "        for x in shake_1:\n",
    "            if x == q:\n",
    "                del shake_1\n",
    "                print(q, 'found! shake_1 deleted!')\n",
    "        for y in shake_2:\n",
    "            if y == q:\n",
    "                del shake_2\n",
    "                print(q, 'found! shake_2 deleted!')\n",
    "        for z in shake_3:\n",
    "            if z == q:\n",
    "                del shake_3\n",
    "                print(q, 'found! shake_3 deleted!')\n",
    "    else:\n",
    "        print(q, 'does not exist...')\n",
    "        return del_shake()\n",
    "\n",
    "\n",
    "del_shake()\n"
   ]
  },
  {
   "cell_type": "markdown",
   "metadata": {},
   "source": [
    "## Practice 13\n",
    "Create a script that performs the following steps:\n",
    "* Prompt the user for the abbreviation of a state they have visited and store the value in a new set.\n",
    "* Repeat the prompt and continue storing values in the same set until the user enters \"done\" (in uppercase or lowercase).\n",
    "* After the user enters \"done,\" display a list of abbreviations for the states that the user has **not** visited yet, using the `states_abbrev` set below and the `difference()` method. \n",
    "\n",
    "**Tip**: It's always a good idea to tell the user how to get out of a loop!"
   ]
  },
  {
   "cell_type": "code",
   "execution_count": 22,
   "metadata": {},
   "outputs": [
    {
     "name": "stdout",
     "output_type": "stream",
     "text": [
      "AL added to user states...\n",
      "AK added to user states...\n",
      "AZ added to user states...\n",
      "CA added to user states...\n",
      "FL added to user states...\n",
      "MD added to user states...\n",
      "MO added to user states...\n",
      "MI added to user states...\n",
      "{'visited': {'AK', 'MD', 'MI', 'AL', 'CA', 'FL', 'MO', 'AZ'}, 'not visited yet': {'KS', 'PA', 'OH', 'MS', 'TX', 'OK', 'AR', 'IN', 'NJ', 'OR', 'ND', 'SD', 'WV', 'WA', 'VA', 'UT', 'NV', 'KY', 'NM', 'IL', 'ME', 'CT', 'DE', 'NY', 'IA', 'MN', 'NE', 'NH', 'NC', 'WI', 'WY', 'MA', 'GA', 'LA', 'VT', 'RI', 'SC', 'MT', 'HI', 'ID', 'TN', 'CO'}}\n"
     ]
    }
   ],
   "source": [
    "states_abbrev = {\"AL\", \"AK\", \"AZ\", \"AR\", \"CA\", \"CO\", \"CT\", \"DE\", \"FL\", \"GA\",\n",
    "                 \"HI\", \"ID\", \"IL\", \"IN\", \"IA\", \"KS\", \"KY\", \"LA\", \"ME\", \"MD\",\n",
    "                 \"MA\", \"MI\", \"MN\", \"MS\", \"MO\", \"MT\", \"NE\", \"NV\", \"NH\", \"NJ\",\n",
    "                 \"NM\", \"NY\", \"NC\", \"ND\", \"OH\", \"OK\", \"OR\", \"PA\", \"RI\", \"SC\",\n",
    "                 \"SD\", \"TN\", \"TX\", \"UT\", \"VT\", \"VA\", \"WA\", \"WV\", \"WI\", \"WY\"}\n",
    "\n",
    "\n",
    "# your code here\n",
    "\n",
    "def user_states():\n",
    "    us = set()\n",
    "    while True:\n",
    "        q = input(\n",
    "            'Enter an abbreviation for a state you have visited or enter done to quit...')\n",
    "        if q.lower() == 'done':\n",
    "            c = states_abbrev.difference(us)\n",
    "            return print({'visited': us, 'not visited yet': c})\n",
    "\n",
    "        if q.upper() in states_abbrev:\n",
    "            us.add(q.upper())\n",
    "            print(q.upper(), 'added to user states...')\n",
    "        else:\n",
    "            print('Try Again...')\n",
    "\n",
    "\n",
    "user_states()\n"
   ]
  },
  {
   "cell_type": "markdown",
   "metadata": {},
   "source": [
    "## Practice 14\n",
    "The following code includes a set of state abbreviations representing states that Mary has visited. Update the code to include the following steps:\n",
    "* Prompt the user for the abbreviation of a state they have visited and store the value in a new set.\n",
    "* Repeat the prompt and continue storing values in the same set until the user enters \"done\" (in uppercase or lowercase).\n",
    "* Display a list of the states that both the user and Mary have visited, or display a meaningful message if the user has not visited any of the states that Mary has visited. "
   ]
  },
  {
   "cell_type": "code",
   "execution_count": 23,
   "metadata": {},
   "outputs": [
    {
     "name": "stdout",
     "output_type": "stream",
     "text": [
      "AL added to user states...\n",
      "AK added to user states...\n",
      "AZ added to user states...\n",
      "CA added to user states...\n",
      "FL added to user states...\n",
      "GA added to user states...\n",
      "MI added to user states...\n",
      "MO added to user states...\n",
      "Try Again...\n",
      "Try Again...\n",
      "WV added to user states...\n",
      "AL added to user states...\n",
      "MI added to user states...\n",
      "done: 4 states, both user and mary have visited {'GA', 'FL', 'AZ', 'CA'}\n"
     ]
    }
   ],
   "source": [
    "mary_states = {\"AZ\", \"CA\", \"FL\", \"GA\", \"IN\",\n",
    "               \"KY\", \"MA\", \"NV\", \"NY\", \"NC\",\n",
    "               \"PA\", \"SC\", \"TN\"}\n",
    "\n",
    "\n",
    "# your code here\n",
    "states_abbrev = {\"AL\", \"AK\", \"AZ\", \"AR\", \"CA\", \"CO\", \"CT\", \"DE\", \"FL\", \"GA\",\n",
    "                 \"HI\", \"ID\", \"IL\", \"IN\", \"IA\", \"KS\", \"KY\", \"LA\", \"ME\", \"MD\",\n",
    "                 \"MA\", \"MI\", \"MN\", \"MS\", \"MO\", \"MT\", \"NE\", \"NV\", \"NH\", \"NJ\",\n",
    "                 \"NM\", \"NY\", \"NC\", \"ND\", \"OH\", \"OK\", \"OR\", \"PA\", \"RI\", \"SC\",\n",
    "                 \"SD\", \"TN\", \"TX\", \"UT\", \"VT\", \"VA\", \"WA\", \"WV\", \"WI\", \"WY\"}\n",
    "\n",
    "\n",
    "def user_states():\n",
    "    us = set()\n",
    "    while True:\n",
    "        q = input(\n",
    "            'Enter an abbreviation for a state you have visited or enter done to quit...')\n",
    "        if q.lower() == 'done':\n",
    "            c = mary_states.intersection(us)\n",
    "            if len(c) == 0:\n",
    "                return print(f'{q}: {len(c)} states, user and mary have not visited any of the same states.')\n",
    "            if len(c) == 1:\n",
    "                return print(f'{q}: {len(c)} state, both user and mary have visited {c}')\n",
    "            else:\n",
    "                return print(f'{q}: {len(c)} states, both user and mary have visited {c}')\n",
    "\n",
    "        if q.upper() in states_abbrev:\n",
    "            us.add(q.upper())\n",
    "            print(q.upper(), 'added to user states...')\n",
    "        else:\n",
    "            print('Try Again...')\n",
    "\n",
    "\n",
    "user_states()\n"
   ]
  },
  {
   "cell_type": "markdown",
   "metadata": {},
   "source": [
    "## Practice 15\n",
    "The following code includes a set of the states that Mary has visited. Update the code to perform the following steps:\n",
    "* Prompt the user for the abbreviation of a state they have visited and store the value in a new set.\n",
    "* Repeat the prompt and continue storing values in the same set until the user enters \"done\" (in uppercase or lowercase).\n",
    "* Display a list of the states that either the user or Mary has visited. "
   ]
  },
  {
   "cell_type": "code",
   "execution_count": 25,
   "metadata": {},
   "outputs": [
    {
     "name": "stdout",
     "output_type": "stream",
     "text": [
      "AZ added to user states...\n",
      "CA added to user states...\n",
      "FL added to user states...\n",
      "GA added to user states...\n",
      "IN added to user states...\n",
      "MI added to user states...\n",
      "MO added to user states...\n",
      "OH added to user states...\n",
      "{'all states': {'PA', 'MI', 'NC', 'OH', 'FL', 'MA', 'IN', 'MO', 'GA', 'NV', 'SC', 'KY', 'TN', 'CA', 'NY', 'AZ'}}\n",
      "{'similar states': {'GA', 'CA', 'FL', 'IN', 'AZ'}}\n",
      "{'difference': {'user': {'MI', 'MO', 'OH'}, 'mary': {'NV', 'SC', 'PA', 'KY', 'NC', 'TN', 'MA', 'NY'}}}\n"
     ]
    }
   ],
   "source": [
    "mary_states = {\"AZ\", \"CA\", \"FL\", \"GA\", \"IN\",\n",
    "               \"KY\", \"MA\", \"NV\", \"NY\", \"NC\",\n",
    "               \"PA\", \"SC\", \"TN\"}\n",
    "\n",
    "\n",
    "# your code here\n",
    "states_abbrev = {\"AL\", \"AK\", \"AZ\", \"AR\", \"CA\", \"CO\", \"CT\", \"DE\", \"FL\", \"GA\",\n",
    "                 \"HI\", \"ID\", \"IL\", \"IN\", \"IA\", \"KS\", \"KY\", \"LA\", \"ME\", \"MD\",\n",
    "                 \"MA\", \"MI\", \"MN\", \"MS\", \"MO\", \"MT\", \"NE\", \"NV\", \"NH\", \"NJ\",\n",
    "                 \"NM\", \"NY\", \"NC\", \"ND\", \"OH\", \"OK\", \"OR\", \"PA\", \"RI\", \"SC\",\n",
    "                 \"SD\", \"TN\", \"TX\", \"UT\", \"VT\", \"VA\", \"WA\", \"WV\", \"WI\", \"WY\"}\n",
    "\n",
    "\n",
    "def user_states():\n",
    "    us = set()\n",
    "\n",
    "    while True:\n",
    "        q = input(\n",
    "            'Enter an abbreviation for a state you have visited or enter done to quit...')\n",
    "        if q.lower() == 'done':\n",
    "            all_states = mary_states.union(us)\n",
    "            print({'all states': set(all_states)})\n",
    "\n",
    "            similar_states = mary_states.intersection(us)\n",
    "            print({'similar states': similar_states})\n",
    "\n",
    "            ud = us.difference(mary_states)\n",
    "            md = mary_states.difference(us)\n",
    "\n",
    "            return print({'difference': {'user': ud, 'mary': md}})\n",
    "\n",
    "        if q.upper() in states_abbrev:\n",
    "            us.add(q.upper())\n",
    "            print(q.upper(), 'added to user states...')\n",
    "        else:\n",
    "            print('Try Again...')\n",
    "\n",
    "\n",
    "user_states()\n"
   ]
  }
 ],
 "metadata": {
  "kernelspec": {
   "display_name": "Python 3 (ipykernel)",
   "language": "python",
   "name": "python3"
  },
  "language_info": {
   "codemirror_mode": {
    "name": "ipython",
    "version": 3
   },
   "file_extension": ".py",
   "mimetype": "text/x-python",
   "name": "python",
   "nbconvert_exporter": "python",
   "pygments_lexer": "ipython3",
   "version": "3.8.10"
  }
 },
 "nbformat": 4,
 "nbformat_minor": 4
}

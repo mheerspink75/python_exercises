{
 "cells": [
  {
   "cell_type": "markdown",
   "metadata": {},
   "source": [
    "# Worksheet 1B: Tuples\n",
    "\n",
    "This worksheet corresponds to _Lesson 1B: Tuples and Tuple Operations_ in the online course. Refer to that lesson as necessary to complete the practice activities here.\n"
   ]
  },
  {
   "cell_type": "markdown",
   "metadata": {},
   "source": [
    "## Practice 1\n",
    "\n",
    "Create a tuple that contains the following information:\n",
    "\n",
    "- Your first name\n",
    "- Your last name\n",
    "- Your age\n",
    "- The average number of miles you travel to work every day (round trip)\n"
   ]
  },
  {
   "cell_type": "code",
   "execution_count": 1,
   "metadata": {},
   "outputs": [
    {
     "data": {
      "text/plain": [
       "(('firstName', 'Joe'),\n",
       " ('lastName', 'Smith'),\n",
       " ('Age', '135'),\n",
       " ('avgTravel', '300'))"
      ]
     },
     "execution_count": 1,
     "metadata": {},
     "output_type": "execute_result"
    }
   ],
   "source": [
    "# your code here\n",
    "my_tuple = tuple((('firstName', 'Joe'), ('lastName', 'Smith'),\n",
    "                 ('Age', '135'), ('avgTravel', '300')))\n",
    "\n",
    "(my_tuple)\n"
   ]
  },
  {
   "cell_type": "markdown",
   "metadata": {},
   "source": [
    "## Practice 2\n",
    "\n",
    "Create a tuple that contains a series of items and then calculate the length of the tuple.\n",
    "\n",
    "You may use the code from Practice 1 above as a starting point if you wish.\n"
   ]
  },
  {
   "cell_type": "code",
   "execution_count": 2,
   "metadata": {},
   "outputs": [
    {
     "data": {
      "text/plain": [
       "4"
      ]
     },
     "execution_count": 2,
     "metadata": {},
     "output_type": "execute_result"
    }
   ],
   "source": [
    "# your code here\n",
    "my_tuple = tuple((('firstName', 'Joe'), ('lastName', 'Smith'),\n",
    "                 ('Age', '135'), ('avgTravel', '300')))\n",
    "\n",
    "\n",
    "((len(my_tuple)))\n"
   ]
  },
  {
   "cell_type": "markdown",
   "metadata": {},
   "source": [
    "## Practice 3\n",
    "\n",
    "Fix the following code so all the information is displayed correctly.\n"
   ]
  },
  {
   "cell_type": "code",
   "execution_count": 3,
   "metadata": {},
   "outputs": [
    {
     "data": {
      "text/plain": [
       "('First name: Jonathan',\n",
       " 'Last name: Vance',\n",
       " 'Street: 679 Birchpond Street',\n",
       " 'City: Merrillville',\n",
       " 'State: IN',\n",
       " 'Zip code: 46410',\n",
       " 'Phone number: 219-555-4876')"
      ]
     },
     "execution_count": 3,
     "metadata": {},
     "output_type": "execute_result"
    }
   ],
   "source": [
    "# do not change the first line of code\n",
    "info = (\"Jonathan\", \"Vance\", \"679 Birchpond Street\",\n",
    "        \"Merrillville\", \"IN\", \"46410\", \"219-555-4876\")\n",
    "\n",
    "# change the index values to produce the correct outputs\n",
    "\n",
    "\n",
    "def fix():\n",
    "    fix_info = ((\"First name: \"+info[0]), (\"Last name: \"+info[0]), (\"Street: \"+info[0]),\n",
    "                (\"City: \"+info[0]), (\"State: \"+info[0]), (\"Zip code: \"+info[0]), (\"Phone number: \"+info[0]))\n",
    "\n",
    "    l = list()\n",
    "    for i in range(len(fix_info)):\n",
    "        l.append(fix_info[i][: - len(info[0])])\n",
    "        l[i] = l[i] + info[i]\n",
    "\n",
    "    t = tuple(l)\n",
    "    return t\n",
    "\n",
    "\n",
    "fix()\n"
   ]
  },
  {
   "cell_type": "markdown",
   "metadata": {},
   "source": [
    "## Practice 4\n",
    "\n",
    "Use negative indexing to display all the items in the tuple below in alphabetical order.\n"
   ]
  },
  {
   "cell_type": "code",
   "execution_count": 4,
   "metadata": {},
   "outputs": [
    {
     "name": "stdout",
     "output_type": "stream",
     "text": [
      "('Adams', 'Adams', 'Jackson', 'Jefferson', 'Madison', 'Monroe', 'Van Buren', 'Washington')\n"
     ]
    }
   ],
   "source": [
    "info = (\"Washington\", \"Adams\", \"Jefferson\", \"Madison\",\n",
    "        \"Monroe\", \"Adams\", \"Jackson\", \"Van Buren\")\n",
    "\n",
    "# your code here\n",
    "info = tuple(sorted(info[-len(info):]))\n",
    "\n",
    "print(info)\n"
   ]
  },
  {
   "cell_type": "markdown",
   "metadata": {},
   "source": [
    "## Practice 5a\n",
    "\n",
    "Update the code below so that each range references only one index value.\n",
    "\n",
    "The output should not change.\n"
   ]
  },
  {
   "cell_type": "code",
   "execution_count": 5,
   "metadata": {},
   "outputs": [
    {
     "name": "stdout",
     "output_type": "stream",
     "text": [
      "The name is:\n",
      "('Jonathan', 'Vance')\n",
      "The address is:\n",
      "('679 Birchpond Street', 'Merrillville', 'IN', '46410')\n",
      "\n",
      "The name is: ('Jonathan', 'Vance')\n",
      "The address is: ('679 Birchpond Street', 'Merrillville', 'IN', '46410')\n"
     ]
    }
   ],
   "source": [
    "info = (\"Jonathan\", \"Vance\", \"679 Birchpond Street\",\n",
    "        \"Merrillville\", \"IN\", \"46410\")\n",
    "\n",
    "# we extract only the first two elements from the tuple and store them in a new tuple\n",
    "name = info[0:2]\n",
    "print(\"The name is:\")\n",
    "print(name)\n",
    "\n",
    "# we extract only the last four elements from the tuple and store them in a new tuple\n",
    "address = info[2:6]\n",
    "print(\"The address is:\")\n",
    "print(address)\n",
    "\n",
    "# we extract only the first two elements from the tuple and store them in a new tuple\n",
    "name = info[:2]\n",
    "print(\"\\nThe name is:\", name)\n",
    "\n",
    "# we extract only the last four elements from the tuple and store them in a new tuple\n",
    "address = info[2:]\n",
    "print(\"The address is:\", address)\n"
   ]
  },
  {
   "cell_type": "markdown",
   "metadata": {},
   "source": [
    "## Practice 5b\n",
    "\n",
    "The tuple below contains the abbreviation of all the states in the USA.\n",
    "\n",
    "Use slicing to create three new tuples:\n",
    "\n",
    "- One tuple that contains all states that start with N\n",
    "- One tuple that contains all states that start with O\n",
    "- One tuple that contains all states that start with A\n"
   ]
  },
  {
   "cell_type": "code",
   "execution_count": 6,
   "metadata": {},
   "outputs": [
    {
     "data": {
      "text/plain": [
       "(('NE', 'NV', 'NH', 'NJ', 'NM', 'NY', 'NC', 'ND'),\n",
       " ('OH', 'OK', 'OR'),\n",
       " ('AL', 'AK', 'AZ', 'AR'))"
      ]
     },
     "execution_count": 6,
     "metadata": {},
     "output_type": "execute_result"
    }
   ],
   "source": [
    "states = (\"AL\", \"AK\", \"AZ\", \"AR\", \"CA\", \"CO\", \"CT\", \"DE\", \"FL\", \"GA\",\n",
    "          \"HI\", \"ID\", \"IL\", \"IN\", \"IA\", \"KS\", \"KY\", \"LA\", \"ME\", \"MD\",\n",
    "          \"MA\", \"MI\", \"MN\", \"MS\", \"MO\", \"MT\", \"NE\", \"NV\", \"NH\", \"NJ\",\n",
    "          \"NM\", \"NY\", \"NC\", \"ND\", \"OH\", \"OK\", \"OR\", \"PA\", \"RI\", \"SC\",\n",
    "          \"SD\", \"TN\", \"TX\", \"UT\", \"VT\", \"VA\", \"WA\", \"WV\", \"WI\", \"WY\")\n",
    "\n",
    "# your code here\n",
    "n = tuple([states[i] for i in range(len(states)) if states[i][:1] == 'N'])\n",
    "o = tuple([states[i] for i in range(len(states)) if states[i][:1] == 'O'])\n",
    "a = tuple([states[i] for i in range(len(states)) if states[i][:1] == 'A'])\n",
    "\n",
    "tuple((n,o,a))\n"
   ]
  },
  {
   "cell_type": "markdown",
   "metadata": {},
   "source": [
    "## Practice 6\n",
    "\n",
    "Attempt each of the following tasks on the tuple defined below:\n",
    "\n",
    "- Add an integer representing Jonathan's age as the last item in the tuple.\n",
    "- Add the Zip code \"46410\" between the state and phone number.\n",
    "- Remove the phone number from the tuple.\n",
    "  Attempt each of the tasks individually, run the code to see what happens, and then attempt the next task in the list.\n",
    "\n",
    "**Challenge**: Change the code so that the data is stored as a list rather than as a tuple and attempt each of the tasks again.\n"
   ]
  },
  {
   "cell_type": "code",
   "execution_count": 7,
   "metadata": {},
   "outputs": [
    {
     "name": "stdout",
     "output_type": "stream",
     "text": [
      "('Jonathan', 'Vance', '679 Birchpond Street', 'Merrillville', 'IN', '219-555-4876')\n",
      "('Jonathan', 'Vance', '679 Birchpond Street', 'Merrillville', 'IN', '46410', '37')\n",
      "['Jonathan', 'Vance', '679 Birchpond Street', 'Merrillville', 'IN', '46410', '37']\n"
     ]
    }
   ],
   "source": [
    "info = (\"Jonathan\", \"Vance\", \"679 Birchpond Street\",\n",
    "        \"Merrillville\", \"IN\", \"219-555-4876\")\n",
    "print(info)\n",
    "\n",
    "info = info[:5] + ('46410', '37')\n",
    "print(info)\n",
    "\n",
    "info = list(info)\n",
    "print(info)"
   ]
  },
  {
   "cell_type": "markdown",
   "metadata": {},
   "source": [
    "## Practice 7\n",
    "\n",
    "Create three tuples:\n",
    "\n",
    "- One tuple with a person's first name and last name\n",
    "- A second tuple with the person's complete address\n",
    "- A third tuple with contact information, such as a phone number and an email address\n",
    "\n",
    "Combine all tuples into a new, single tuple that contains all of the items from the original tuples.\n"
   ]
  },
  {
   "cell_type": "code",
   "execution_count": 8,
   "metadata": {},
   "outputs": [
    {
     "name": "stdout",
     "output_type": "stream",
     "text": [
      "('Bob', 'Jones', '123 Place Rd', 'Memphis', 'TN', 'bob@email.com', '444-122-5353')\n"
     ]
    }
   ],
   "source": [
    "# your code here\n",
    "a = ('Bob', 'Jones')\n",
    "b = ('123 Place Rd', 'Memphis', 'TN')\n",
    "c = ('bob@email.com', '444-122-5353')\n",
    "\n",
    "new_tuple = a + b + c\n",
    "\n",
    "print(new_tuple)\n"
   ]
  }
 ],
 "metadata": {
  "kernelspec": {
   "display_name": "Python 3 (ipykernel)",
   "language": "python",
   "name": "python3"
  },
  "language_info": {
   "codemirror_mode": {
    "name": "ipython",
    "version": 3
   },
   "file_extension": ".py",
   "mimetype": "text/x-python",
   "name": "python",
   "nbconvert_exporter": "python",
   "pygments_lexer": "ipython3",
   "version": "3.8.10"
  }
 },
 "nbformat": 4,
 "nbformat_minor": 4
}

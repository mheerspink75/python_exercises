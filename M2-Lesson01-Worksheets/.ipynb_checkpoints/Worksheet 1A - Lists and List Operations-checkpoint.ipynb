{
 "cells": [
  {
   "cell_type": "markdown",
   "metadata": {},
   "source": [
    "# Worksheet 1A: Lists and List Operations\n",
    "\n",
    "This worksheet corresponds to _Lesson 1A: Lists and List Operations_ in the online course. Refer to that lesson as necessary to complete the practice exercises here.\n"
   ]
  },
  {
   "cell_type": "markdown",
   "metadata": {},
   "source": [
    "## Practice 1\n",
    "\n",
    "Create a list that contains the following information (in this specific order):\n",
    "\n",
    "- Your first name\n",
    "- Your last name\n",
    "- Your age\n",
    "- The average number of miles you travel to work every day (round trip)\n"
   ]
  },
  {
   "cell_type": "code",
   "execution_count": 1,
   "metadata": {},
   "outputs": [
    {
     "name": "stdout",
     "output_type": "stream",
     "text": [
      "matt heerspink 69 12\n"
     ]
    }
   ],
   "source": [
    "# your code here\n",
    "lst = list()\n",
    "[lst.append(i) for i in list(['matt', 'heerspink', 69, 12])]\n",
    "\n",
    "print(*lst)\n"
   ]
  },
  {
   "cell_type": "markdown",
   "metadata": {},
   "source": [
    "## Practice 2\n",
    "\n",
    "Modify the list definition (add or remove elements) so the `print` command displays `True`.\n"
   ]
  },
  {
   "cell_type": "code",
   "execution_count": 2,
   "metadata": {},
   "outputs": [
    {
     "name": "stdout",
     "output_type": "stream",
     "text": [
      "['Kate', 'Jennifer', 'Mike', 'Pearl', 'Zilla']\n",
      "True\n"
     ]
    }
   ],
   "source": [
    "list_of_strings = [\"Kate\", \"Jennifer\", \"Mike\"]\n",
    "\n",
    "# do not change the following code\n",
    "##################################\n",
    "list_of_strings.extend(['Pearl', 'Zilla'])\n",
    "print(list_of_strings)\n",
    "##################################\n",
    "# check that the size of the list is equal to 5\n",
    "test = len(list_of_strings) == 5\n",
    "print(test)\n"
   ]
  },
  {
   "cell_type": "markdown",
   "metadata": {},
   "source": [
    "## Practice 3a\n",
    "\n",
    "Update the following code to display only the first character of each name in the list of names.\n",
    "\n",
    "**Tip**: Review the use of index values in strings.\n"
   ]
  },
  {
   "cell_type": "code",
   "execution_count": 3,
   "metadata": {},
   "outputs": [
    {
     "name": "stdout",
     "output_type": "stream",
     "text": [
      "K J M\n"
     ]
    }
   ],
   "source": [
    "list_of_strings = [\"Kate\", \"Jennifer\", \"Mike\"]\n",
    "\n",
    "person_1 = list_of_strings[0]  # access the first element of the list\n",
    "person_2 = list_of_strings[1]  # access the second element of the list\n",
    "person_3 = list_of_strings[2]  # access the third (and last) element of the list\n",
    "######################################################\n",
    "fc = [i[0] for i in [person_1, person_2, person_3]]\n",
    "print(*fc)\n",
    "######################################################"
   ]
  },
  {
   "cell_type": "markdown",
   "metadata": {},
   "source": [
    "## Practice 3b\n",
    "\n",
    "When we use the `split` function on a string that contains multiple words, Python creates a list that includes each word in the string as a separate item in the list.\n",
    "\n",
    "Create a script that performs the following steps:\n",
    "\n",
    "1. Prompt the user for their name in the format: \"last_name, first_name\".\n",
    "1. Use the `split` function to separate the names in the input string.\n",
    "1. Store each name in its own variable.\n",
    "1. Display the first name to the user with an appropriate feedback message.\n",
    "1. Display the last name to the user without the comma and with an appropriate feedback message.\n",
    "\n",
    "**Challenge**: Allow the user to enter their name using any case. Display each name with only the first letter capitalized, regardless of the case used to enter the name.\n"
   ]
  },
  {
   "cell_type": "code",
   "execution_count": 4,
   "metadata": {},
   "outputs": [
    {
     "name": "stdin",
     "output_type": "stream",
     "text": [
      "Enter your: \"lastname, firstname\"  Jablomi, Haywood\n"
     ]
    },
    {
     "name": "stdout",
     "output_type": "stream",
     "text": [
      "First name:  Haywood\n",
      "  Last name: Jablomi\n"
     ]
    }
   ],
   "source": [
    "# your code here\n",
    "def get_name():\n",
    "    count = 0\n",
    "    while count == 0:\n",
    "        ## Add a comma! Dingus, Joseph\n",
    "        l = input('Enter your: \"lastname, firstname\" ')\n",
    "        if l.__contains__(','):\n",
    "            (l_name, f_name) = l.split(',')\n",
    "            count += 1\n",
    "            break\n",
    "        else:\n",
    "            print('Try again')\n",
    "        continue\n",
    "\n",
    "    return print(f'First name: {f_name}\\n  Last name: {l_name}')\n",
    "\n",
    "\n",
    "get_name()\n"
   ]
  },
  {
   "cell_type": "markdown",
   "metadata": {},
   "source": [
    "## Practice 4\n",
    "\n",
    "Fix the following code so each of the `print` lines displays the expected data.\n"
   ]
  },
  {
   "cell_type": "code",
   "execution_count": 5,
   "metadata": {},
   "outputs": [
    {
     "name": "stdout",
     "output_type": "stream",
     "text": [
      "First name:  John\n",
      "Last name:  Smith\n",
      "Address:  123 East Main Street\n",
      "City:  Boston\n",
      "Profession:  Junior Software Developer\n"
     ]
    }
   ],
   "source": [
    "# do not change the first line\n",
    "info = [\"John\", \"Smith\", \"123 East Main Street\", \"Boston\", \"Junior Software Developer\"]\n",
    "\n",
    "# change the index values in the output statements\n",
    "fix = {\n",
    "\"First name: \": info[0],\n",
    "\"Last name: \": info[1],\n",
    "\"Address: \": info[2],\n",
    "\"City: \" : info[3],\n",
    "\"Profession: \": info[4]\n",
    "}\n",
    "##################################\n",
    "for key, value in fix.items():\n",
    "    print(key, value)\n",
    "##################################"
   ]
  },
  {
   "cell_type": "markdown",
   "metadata": {},
   "source": [
    "## Practice 5a\n",
    "\n",
    "Using the code below as a starting point, update the slicing code for `team_1` and `team_3` **without** referencing both index values. The output should not change.\n"
   ]
  },
  {
   "cell_type": "code",
   "execution_count": 6,
   "metadata": {},
   "outputs": [
    {
     "name": "stdout",
     "output_type": "stream",
     "text": [
      "The first team is:\n",
      "['John', 'Mike']\n",
      "The second team is:\n",
      "['Serena', 'Jennifer']\n",
      "The third team is:\n",
      "['Abby', 'Lisa']\n",
      "\n",
      "The first team is:\n",
      "['John', 'Mike']\n",
      "The second team is:\n",
      "['Serena', 'Jennifer']\n",
      "The third team is:\n",
      "['Abby', 'Lisa']\n",
      "None\n"
     ]
    }
   ],
   "source": [
    "list_of_names = [\"John\", \"Mike\", \"Serena\", \"Jennifer\", \"Abby\", \"Lisa\"]\n",
    "\n",
    "team_1 = list_of_names[0:2]  # use slicing to retrieve the first two elements\n",
    "print(\"The first team is:\")\n",
    "print(team_1)\n",
    "\n",
    "team_2 = list_of_names[2:4]  # use slicing to retrieve the middle two elements\n",
    "print(\"The second team is:\")\n",
    "print(team_2)\n",
    "\n",
    "team_3 = list_of_names[4:6]  # use slicing to retrieve the last two elements\n",
    "print(\"The third team is:\")\n",
    "print(team_3)\n",
    "\n",
    "##############################################################################\n",
    "def slice_teams():\n",
    "    team_1 = list_of_names[:2]\n",
    "    print(\"\\nThe first team is:\")\n",
    "    print(team_1)\n",
    "\n",
    "    print(\"The second team is:\")\n",
    "    print(team_2)\n",
    "\n",
    "    team_3 = list_of_names[-2:]\n",
    "    print(\"The third team is:\")\n",
    "    print(team_3)\n",
    "\n",
    "print(slice_teams())\n"
   ]
  },
  {
   "cell_type": "markdown",
   "metadata": {},
   "source": [
    "## Practice 5b\n",
    "\n",
    "The list below contains the abbreviations for all states in the USA.\n",
    "\n",
    "Use slicing to create three new lists:\n",
    "\n",
    "- One list that contains all states that start with M\n",
    "- One list that contains all states that start with W\n",
    "- One list that contains all states that start with V\n"
   ]
  },
  {
   "cell_type": "code",
   "execution_count": 7,
   "metadata": {},
   "outputs": [
    {
     "name": "stdout",
     "output_type": "stream",
     "text": [
      "['ME', 'MD', 'MA', 'MI', 'MN', 'MS', 'MO', 'MT']\n",
      "['WA', 'WV', 'WI', 'WY']\n",
      "['VT', 'VA']\n"
     ]
    }
   ],
   "source": [
    "states = [\"AL\", \"AK\", \"AZ\", \"AR\", \"CA\", \"CO\", \"CT\", \"DE\", \"FL\", \"GA\",\n",
    "          \"HI\", \"ID\", \"IL\", \"IN\", \"IA\", \"KS\", \"KY\", \"LA\", \"ME\", \"MD\",\n",
    "          \"MA\", \"MI\", \"MN\", \"MS\", \"MO\", \"MT\", \"NE\", \"NV\", \"NH\", \"NJ\",\n",
    "          \"NM\", \"NY\", \"NC\", \"ND\", \"OH\", \"OK\", \"OR\", \"PA\", \"RI\", \"SC\",\n",
    "          \"SD\", \"TN\", \"TX\", \"UT\", \"VT\", \"VA\", \"WA\", \"WV\", \"WI\", \"WY\"]\n",
    "\n",
    "# continue code here\n",
    "m = [i for i in states if i[:1] == 'M']\n",
    "w = [i for i in states if i[:1] == 'W']\n",
    "v = [i for i in states if i[:1] == 'V']\n",
    "\n",
    "print(f'{m}\\n{w}\\n{v}')\n"
   ]
  },
  {
   "cell_type": "markdown",
   "metadata": {},
   "source": [
    "## Practice 6\n",
    "\n",
    "Using the `append` method, add the following information in this specific order:\n",
    "\n",
    "- Your first name\n",
    "- Your last name\n",
    "- Your age\n",
    "- The average number of miles you travel to work every day (round trip)\n"
   ]
  },
  {
   "cell_type": "code",
   "execution_count": 8,
   "metadata": {},
   "outputs": [
    {
     "name": "stdout",
     "output_type": "stream",
     "text": [
      "['matt', 'heerspink', 100, 5]\n"
     ]
    }
   ],
   "source": [
    "info = []  # the info list is initially empty\n",
    "\n",
    "# continue code here\n",
    "[info.append(i) for i in ['matt', 'heerspink', 100, 5]]\n",
    "\n",
    "print(info)\n"
   ]
  },
  {
   "cell_type": "markdown",
   "metadata": {},
   "source": [
    "## Practice 7\n",
    "\n",
    "Use the `insert` method to add the appropriate information to the list and then update the `print` statements so the data is displayed correctly. Use any random address.\n",
    "\n",
    "**Hint**: You will need to add the address to `info` at the appropriate index.\n"
   ]
  },
  {
   "cell_type": "code",
   "execution_count": 9,
   "metadata": {},
   "outputs": [
    {
     "name": "stdout",
     "output_type": "stream",
     "text": [
      "First name: John\n",
      "Last name: Smith\n",
      "Address: Boston\n",
      "City: 123 Acme Rd\n",
      "Profession: Junior Software Developer\n"
     ]
    }
   ],
   "source": [
    "info = [\"John\", \"Smith\", \"Boston\", \"Junior Software Developer\"]\n",
    "\n",
    "# your code goes here\n",
    "info.insert(3, '123 Acme Rd')\n",
    "\n",
    "fix = {\n",
    "    'First name:': info[0],\n",
    "    'Last name:': info [1],\n",
    "    'Address:': info[2],\n",
    "    'City:': info[3],\n",
    "    'Profession:': info[4]\n",
    "}\n",
    "\n",
    "##################################\n",
    "for key, value in fix.items():\n",
    "    print(key, value)\n",
    "##################################\n"
   ]
  },
  {
   "cell_type": "markdown",
   "metadata": {},
   "source": [
    "## Practice 8\n",
    "\n",
    "Use the `remove` method in the code below to delete all duplicate values in the list.\n",
    "\n",
    "Each value in the original list should be included exactly one time in the final version of the list.\n"
   ]
  },
  {
   "cell_type": "code",
   "execution_count": 10,
   "metadata": {},
   "outputs": [
    {
     "name": "stdout",
     "output_type": "stream",
     "text": [
      "['Livia', 'Layla', 1, 2, 3, 'Mike', 'Jesse', 'Haythem']\n",
      "['Livia', 'Layla', 1, 2, 3, 'Mike', 'Jesse', 'Haythem']\n"
     ]
    }
   ],
   "source": [
    "input_list = [\"Haythem\", \"Mike\", 1, \"Layla\", \"Livia\",\n",
    "              \"Layla\", 2, 1, 2, 3, \"Mike\", \"Jesse\", \"Haythem\"]\n",
    "\n",
    "# your code here\n",
    "##############################################\n",
    "def remove_duplicates():\n",
    "    y = list()\n",
    "    # put duplicates in y\n",
    "    for i in range(0, len(input_list)):    \n",
    "        for j in range(i+1, len(input_list)):    \n",
    "            if(input_list[i] == input_list[j]):    \n",
    "                y.append(input_list[j])\n",
    "\n",
    "    # compare y to input list\n",
    "    [input_list.remove(i) for i in y]\n",
    "\n",
    "    return print(input_list)\n",
    "\n",
    "remove_duplicates()\n",
    "###############################################\n",
    "### or ########################################\n",
    "def remove_duplicates2():\n",
    "    lambda input_list: list(set(input_list))\n",
    "    \n",
    "    return print(input_list)\n",
    "\n",
    "remove_duplicates2()\n",
    "###############################################"
   ]
  },
  {
   "cell_type": "markdown",
   "metadata": {},
   "source": [
    "## Practice 9\n",
    "\n",
    "Create code below that performs the following steps:\n",
    "\n",
    "- Concatenate the three lists.\n",
    "- Use the `remove` method to delete all the negative numbers from the new list.\n"
   ]
  },
  {
   "cell_type": "code",
   "execution_count": 11,
   "metadata": {},
   "outputs": [
    {
     "name": "stdout",
     "output_type": "stream",
     "text": [
      "[0, 1, 1, 2, 4, 6, 45, 65, 67]\n"
     ]
    }
   ],
   "source": [
    "list_1 = [1, -1, 4, 6]\n",
    "list_2 = [0, 1, 67, -98]\n",
    "list_3 = [45, 65, 2, -54, -434]\n",
    "\n",
    "# your code \n",
    "#########################################################################\n",
    "def concat_remove_neg():\n",
    "    new_list = [*list_1, *list_2, *list_3]\n",
    "    [new_list.remove(i) for i in list(filter(lambda l: l < 0, new_list))] \n",
    "    new_list.sort()   \n",
    "    return print(new_list)\n",
    "    \n",
    "concat_remove_neg()\n",
    "##########################################################################"
   ]
  }
 ],
 "metadata": {
  "kernelspec": {
   "display_name": "Python 3 (ipykernel)",
   "language": "python",
   "name": "python3"
  },
  "language_info": {
   "codemirror_mode": {
    "name": "ipython",
    "version": 3
   },
   "file_extension": ".py",
   "mimetype": "text/x-python",
   "name": "python",
   "nbconvert_exporter": "python",
   "pygments_lexer": "ipython3",
   "version": "3.8.10"
  }
 },
 "nbformat": 4,
 "nbformat_minor": 4
}

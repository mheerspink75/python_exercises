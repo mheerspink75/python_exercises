{
 "cells": [
  {
   "cell_type": "markdown",
   "metadata": {},
   "source": [
    "\n",
    "# Lesson 1 Activities\n",
    "\n",
    "The activities in this page are designed to test your ability to meet the objectives for Lesson 1, including:\n",
    "\n",
    "* Use lists to store data collections and retrieve specific values from a collection.\n",
    "* Use tuples to store data collections and retrieve values.\n",
    "\n",
    "Complete each activity as described and run the code to make sure it works as expected before starting the next activity."
   ]
  },
  {
   "cell_type": "markdown",
   "metadata": {},
   "source": [
    "## Activity 1\n",
    "\n",
    "Prompt the user to answer a series of 3-5 questions about themselves (such as their name, their age, their birthdate, or where they live) and save the answers in a list. Display the results to the user.\n",
    "\n",
    "**Tip**: Research the syntax required for a tuple with a single element."
   ]
  },
  {
   "cell_type": "code",
   "execution_count": null,
   "metadata": {},
   "outputs": [],
   "source": [
    "# your code here\n",
    "def questions():\n",
    "    q = list(('Name', 'Age', 'City', 'State', 'Email', 'Phone'))\n",
    "    y = [{}, []]\n",
    "\n",
    "    print('Answer these questions...')\n",
    "    i = 0\n",
    "    while i < len(q):\n",
    "        print(f'\\nWhat is your {q[i]}?')\n",
    "        prompts = input(f'What is your {q[i]}')\n",
    "        y[1].append(prompts)\n",
    "        print(y[1][i], '-> added to list...')\n",
    "        y[0].update({q[i]: a[i]})\n",
    "        i += 1\n",
    "\n",
    "    y[1].pop()\n",
    "\n",
    "    return print('\\nYou entered: ', y)\n",
    "\n",
    "\n",
    "questions()\n"
   ]
  },
  {
   "cell_type": "markdown",
   "metadata": {},
   "source": [
    "## Activity 2\n",
    "\n",
    "Present the user with an existing list of items (such as the list created in the previous activity) and prompt the user for 2-4 more items to add to the list. Update the list with the new items and display the updated list."
   ]
  },
  {
   "cell_type": "code",
   "execution_count": null,
   "metadata": {},
   "outputs": [],
   "source": [
    "# your code here\n",
    "y = [{'Name': 'Matt', 'Age': '99', 'City': 'Jonesboro',\n",
    "     'State': 'AR', 'Email': 'matt@email.com', 'Phone': '734-473-3132'}]\n",
    "\n",
    "nq = [['food', 'drink', 'restaurant'], []]\n",
    "\n",
    "\n",
    "def add_questions():\n",
    "    print('Your info: ', y)\n",
    "    i = 0\n",
    "    while len(y[0]) < 9:\n",
    "        print(f'\\nWhat is your favorite {nq[0][i]}? ')\n",
    "        prompts = input(f'\\nWhat is your favorite {nq[0][i]}? ')\n",
    "        nq[1].append(prompts)\n",
    "        print(nq[1][i], '-> added to list...')\n",
    "        y[0].update({nq[0][i]: nq[1][i]})\n",
    "        i += 1\n",
    "\n",
    "    nq[1].clear()\n",
    "\n",
    "    return print('\\nUpdated info: ', y)\n",
    "\n",
    "\n",
    "add_questions()\n"
   ]
  },
  {
   "cell_type": "markdown",
   "metadata": {},
   "source": [
    "## Activity 3\n",
    "\n",
    "Present the user with a list of 7-9 items (such as the list created in the previous activities) and prompt them to enter one item to delete from the list. Delete the named item from the list and display the updated list."
   ]
  },
  {
   "cell_type": "code",
   "execution_count": 14,
   "metadata": {},
   "outputs": [
    {
     "name": "stdout",
     "output_type": "stream",
     "text": [
      "Choose an item number to remove...\n",
      " \n",
      "1: ('Name: ', 'Matt') \n",
      "2: ('Age: ', '99') \n",
      "3: ('City: ', 'Jonesboro') \n",
      "4: ('State: ', 'AR') \n",
      "5: ('Email: ', 'matt@email.com') \n",
      "6: ('Phone: ', '734-473-3132') \n",
      "7: ('food', 'Tacos') \n",
      "8: ('drink', 'Beer') \n",
      "9: ('restaurant', 'Chilangos')\n",
      "\n",
      "9: ('restaurant', 'Chilangos') -> Removed from list...\n",
      "\n",
      "Updated info...\n",
      " \n",
      "1: ('Name: ', 'Matt') \n",
      "2: ('Age: ', '99') \n",
      "3: ('City: ', 'Jonesboro') \n",
      "4: ('State: ', 'AR') \n",
      "5: ('Email: ', 'matt@email.com') \n",
      "6: ('Phone: ', '734-473-3132') \n",
      "7: ('food', 'Tacos') \n",
      "8: ('drink', 'Beer') \n",
      "\n",
      "[{'Name: ': 'Matt', 'Age: ': '99', 'City: ': 'Jonesboro', 'State: ': 'AR', 'Email: ': 'matt@email.com', 'Phone: ': '734-473-3132', 'food': 'Tacos', 'drink': 'Beer'}]\n"
     ]
    }
   ],
   "source": [
    "# your code here\n",
    "y = [{'Name: ': 'Matt', 'Age: ': '99', 'City: ': 'Jonesboro', 'State: ': 'AR', 'Email: ': 'matt@email.com',\n",
    "     'Phone: ': '734-473-3132', 'food': 'Tacos', 'drink': 'Beer', 'restaurant': 'Chilangos'}]\n",
    "\n",
    "a = [(k, v) for (k, v) in y[0].items()]\n",
    "b = [f'\\n{i + 1}: {a[i]}' for i in range(len(a))]\n",
    "\n",
    "print(f'Choose an item number to remove...\\n', *b)\n",
    "\n",
    "\n",
    "def delete_items():\n",
    "    i = 0\n",
    "    while i < 1:\n",
    "        prompts = int(input('\\nSelect one item to delete... '))\n",
    "        if prompts in range(1, len(a) + 1):\n",
    "            print(f'{b[prompts -1]} -> Removed from list...')\n",
    "            y[0].pop(a[prompts - 1][0])\n",
    "            a.pop(prompts - 1)\n",
    "            i += 1\n",
    "\n",
    "        return print('\\nUpdated info...\\n', *[f'\\n{i + 1}: {a[i]}' for i in range(len(a))], f'\\n\\n{y}')\n",
    "\n",
    "\n",
    "delete_items()\n"
   ]
  },
  {
   "cell_type": "markdown",
   "metadata": {},
   "source": [
    "## Activity 4\n",
    "\n",
    "Present the user with a list of 7-9 items (such as the list created in the previous activities) and prompt them to select one item from the list to update, along with the new value for that item. Change the item's value and display the new list to the user.\n",
    "\n",
    "**Tip**: You will need to know how to find the index value for a specific value to complete this activity."
   ]
  },
  {
   "cell_type": "code",
   "execution_count": 38,
   "metadata": {},
   "outputs": [
    {
     "name": "stdout",
     "output_type": "stream",
     "text": [
      "Choose an item number to update...\n",
      " \n",
      "1: ('Name', 'Matt') \n",
      "2: ('Age', '99') \n",
      "3: ('City', 'Jonesboro') \n",
      "4: ('State', 'AR') \n",
      "5: ('Email', 'matt@email.com') \n",
      "6: ('Phone', '734-473-3132') \n",
      "7: ('food', 'Tacos') \n",
      "8: ('drink', 'Beer') \n",
      "9: ('restaurant', 'Chilangos')\n",
      "\n",
      "You chose -> \n",
      "9: ('restaurant', 'Chilangos')\n",
      "Enter a new -> restaurant...\n",
      "\n",
      "You entered -> restaurant: Taco Bell\n",
      "\n",
      "Updated info...\n",
      " \n",
      "1: ('Name', 'Matt') \n",
      "2: ('Age', '99') \n",
      "3: ('City', 'Jonesboro') \n",
      "4: ('State', 'AR') \n",
      "5: ('Email', 'matt@email.com') \n",
      "6: ('Phone', '734-473-3132') \n",
      "7: ('food', 'Tacos') \n",
      "8: ('drink', 'Beer') \n",
      "9: ('restaurant', 'Taco Bell') \n",
      "\n",
      "[{'Name': 'Matt', 'Age': '99', 'City': 'Jonesboro', 'State': 'AR', 'Email': 'matt@email.com', 'Phone': '734-473-3132', 'food': 'Tacos', 'drink': 'Beer', 'restaurant': 'Taco Bell'}]\n"
     ]
    }
   ],
   "source": [
    "# your code here\n",
    "y = [{'Name': 'Matt', 'Age': '99', 'City': 'Jonesboro', 'State': 'AR', 'Email': 'matt@email.com',\n",
    "     'Phone': '734-473-3132', 'food': 'Tacos', 'drink': 'Beer', 'restaurant': 'Chilangos'}]\n",
    "\n",
    "a = [(k, v) for (k, v) in y[0].items()]\n",
    "b = [f'\\n{i + 1}: {a[i]}' for i in range(len(a))]\n",
    "\n",
    "print(f'Choose an item number to update...\\n', *b)\n",
    "\n",
    "\n",
    "def update_items():\n",
    "    prompts = int(input('\\nSelect one item to update... '))\n",
    "    i = 0\n",
    "    while i < 1:\n",
    "        if prompts in range(len(y[0])+1):\n",
    "            choice = a[prompts - 1][0]\n",
    "            print(\n",
    "                f'\\nYou chose -> {b[prompts -1]}\\nEnter a new -> {choice}...\\n')\n",
    "\n",
    "            update_prompt = input(f'Enter a new value for: {choice}')\n",
    "            print(f'You entered -> {choice}: {update_prompt}')\n",
    "\n",
    "            y[0].update({choice: update_prompt})\n",
    "\n",
    "            a.insert(a.index(a[prompts - 1]), (choice, update_prompt))\n",
    "            a.pop(prompts)\n",
    "            i += 1\n",
    "\n",
    "        return print('\\nUpdated info...\\n', *[f'\\n{i + 1}: {a[i]}' for i in range(len(a))], f'\\n\\n{y}')\n",
    "\n",
    "\n",
    "update_items()\n"
   ]
  },
  {
   "cell_type": "markdown",
   "metadata": {},
   "source": [
    "## Activity 5\n",
    "\n",
    "Create four tuples:\n",
    "\n",
    "* One tuple with a person's first name and last name\n",
    "* A second tuple with the person's current profession\n",
    "* A third tuple with the person's current address\n",
    "* A fourth tuple with the person's previous address\n",
    "\n",
    "Combine all tuples into a new, single tuple that contains all items from the original tuples."
   ]
  },
  {
   "cell_type": "code",
   "execution_count": 99,
   "metadata": {},
   "outputs": [
    {
     "data": {
      "text/plain": [
       "(('First Name', 'Matt'),\n",
       " ('Last Name', 'Heerspink'),\n",
       " ('Profession', 'Engineer'),\n",
       " ('Address', '123 Easy Street'),\n",
       " ('Previous Address', '666 Row'))"
      ]
     },
     "execution_count": 99,
     "metadata": {},
     "output_type": "execute_result"
    }
   ],
   "source": [
    "# your code here\n",
    "def make_tuples():\n",
    "    a = ('First Name', 'Matt')\n",
    "    b = ('Last Name', 'Heerspink')\n",
    "    c = ('Profession', 'Engineer')\n",
    "    d = ('Address', '123 Easy Street')\n",
    "    e = ('Previous Address', '666 Row')\n",
    "    x = tuple((a,b,c,d,e))\n",
    "    return x\n",
    "\n",
    "make_tuples()"
   ]
  },
  {
   "cell_type": "markdown",
   "metadata": {},
   "source": [
    "## Activity 6\n",
    "\n",
    "Using the final tuple from the previous activity, write a program that performs the following steps:\n",
    "\n",
    "* Display the tuple to the user.\n",
    "* Prompt the user to enter a value that should be changed.\n",
    "* Prompt the user to enter the updated value for that item.\n",
    "* Update the value and display the updated tuple to the user.\n",
    "\n",
    "**Tip**: You cannot update the contents of a tuple, but you can update the contents of a list."
   ]
  },
  {
   "cell_type": "code",
   "execution_count": 157,
   "metadata": {},
   "outputs": [
    {
     "name": "stdout",
     "output_type": "stream",
     "text": [
      "Choose a tuple to update...\n",
      "1: ('First Name', 'Matt')\n",
      "2: ('Last Name', 'Heerspink')\n",
      "3: ('Profession', 'Engineer')\n",
      "4: ('Address', '123 Easy Street')\n",
      "5: ('Previous Address', '666 Row')\n",
      "\n",
      "You chose... 3: ('Profession', 'Engineer')\n",
      "\n",
      "Enter a new: Profession...\n",
      "-> You entered: Developer\n",
      "-> New Tuple created...\n",
      "(('First Name', 'Matt'), ('Last Name', 'Heerspink'), ('Profession', 'Developer'), ('Address', '123 Easy Street'), ('Previous Address', '666 Row'))\n"
     ]
    }
   ],
   "source": [
    "# your code here\n",
    "x = make_tuples()\n",
    "y = list()\n",
    "\n",
    "\n",
    "def change_tuple():\n",
    "    print('Choose a tuple to update...')\n",
    "    for i in range(len(x)):\n",
    "        print(f'{i+1}: {x[i]}')\n",
    "\n",
    "    j = 0\n",
    "    while j < 1:\n",
    "        choose = int(input('Choose a tuple to update...'))\n",
    "        choice = x[choose - 1]\n",
    "        print(f'\\nYou chose... {choose}: {choice}')\n",
    "        print(f'\\nEnter a new: {choice[0]}...')\n",
    "\n",
    "        choose_update = input(f'Enter a new: {choice[0]}...')\n",
    "        print(f'-> You entered: {choose_update}')\n",
    "        \n",
    "        for i in range(len(x)):\n",
    "            y.append(x[i])\n",
    "\n",
    "        y.insert(y.index(y[choose - 1]), (choice[0], choose_update))\n",
    "        y.pop(choose)\n",
    "        z = tuple(y)\n",
    "        j += 1\n",
    "\n",
    "    print('-> New Tuple created...')\n",
    "    return print(z)\n",
    "\n",
    "\n",
    "change_tuple()\n"
   ]
  }
 ],
 "metadata": {
  "kernelspec": {
   "display_name": "Python 3",
   "language": "python",
   "name": "python3"
  },
  "language_info": {
   "codemirror_mode": {
    "name": "ipython",
    "version": 3
   },
   "file_extension": ".py",
   "mimetype": "text/x-python",
   "name": "python",
   "nbconvert_exporter": "python",
   "pygments_lexer": "ipython3",
   "version": "3.10.2"
  }
 },
 "nbformat": 4,
 "nbformat_minor": 2
}

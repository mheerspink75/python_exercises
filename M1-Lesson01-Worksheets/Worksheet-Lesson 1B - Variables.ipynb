{
 "cells": [
  {
   "cell_type": "markdown",
   "metadata": {},
   "source": [
    "# Worksheet: Variables\n",
    "This worksheet includes the practice activities for *Lesson 1B: Variables* in the online course. Refer to that lesson as necessary to complete these activities."
   ]
  },
  {
   "cell_type": "markdown",
   "metadata": {},
   "source": [
    "## Practice 1\n",
    "Create three variables to store the following information:\n",
    "- Name: Your name\n",
    "- Age: Your age\n",
    "- States: A list that contains the names of the states (in the USA) where you have lived "
   ]
  },
  {
   "cell_type": "code",
   "execution_count": 1,
   "metadata": {},
   "outputs": [
    {
     "name": "stdout",
     "output_type": "stream",
     "text": [
      "matt 99 ['Michigan', 'Ohio', 'Colorado', 'Arkansas']\n"
     ]
    }
   ],
   "source": [
    "# Create the requested variables here.\n",
    "name = 'matt'\n",
    "age = 99\n",
    "states = list(('Michigan', 'Ohio', 'Colorado', 'Arkansas'))\n",
    "print(name, age, states)\n"
   ]
  },
  {
   "cell_type": "markdown",
   "metadata": {},
   "source": [
    "## Practice 2a\n",
    "Experiment with the example code below. What happens if you put the `print` statements at the end of the program? What if you put them above the corresponding variable statements?"
   ]
  },
  {
   "cell_type": "code",
   "execution_count": 2,
   "metadata": {},
   "outputs": [
    {
     "name": "stdout",
     "output_type": "stream",
     "text": [
      "0\n",
      "Hello World\n",
      "0.06\n",
      "False\n",
      "['Maya', 'Marley']\n",
      "[45, 7, 25, 7, 2, 6, 4, 11]\n"
     ]
    }
   ],
   "source": [
    "t = 0  # a variable that stores an integer\n",
    "print(t)\n",
    "\n",
    "message = \"Hello World\"  # a variable that stores a string\n",
    "print(message)\n",
    "\n",
    "tax_rate = 0.06  # a variable that stores fractional numbers\n",
    "print(tax_rate)\n",
    "\n",
    "isFromNH = False  # a variable that stores boolean values true or false\n",
    "print(isFromNH)\n",
    "\n",
    "pets = [\"Maya\", \"Marley\"]  # a variable that stores a list of strings\n",
    "print(pets)\n",
    "\n",
    "# a variable that stores a list of integers\n",
    "winning_numbers = [45, 7, 25, 7, 2, 6, 4, 11]\n",
    "print(winning_numbers)\n"
   ]
  },
  {
   "cell_type": "markdown",
   "metadata": {},
   "source": [
    "## Practice 2b\n",
    "Using the example given above, create variables to store your name, your age, and a list of states you have lived in and then display those values in the output."
   ]
  },
  {
   "cell_type": "code",
   "execution_count": 3,
   "metadata": {},
   "outputs": [
    {
     "name": "stdout",
     "output_type": "stream",
     "text": [
      "{'name': 'Matt', 'age': 99, 'states': ['Michigan', 'Ohio', 'Colorado', 'Arkansas']}\n"
     ]
    }
   ],
   "source": [
    "# Add your code here.\n",
    "name = 'Matt'\n",
    "age = 99\n",
    "states = list(('Michigan', 'Ohio', 'Colorado', 'Arkansas'))\n",
    "my_info = {'name': name, 'age': age, 'states': states}\n",
    "\n",
    "print(my_info)\n"
   ]
  },
  {
   "cell_type": "markdown",
   "metadata": {},
   "source": [
    "## Practice 3a"
   ]
  },
  {
   "cell_type": "markdown",
   "metadata": {},
   "source": [
    "Note that when you run a program that includes an error, the code stops as soon as it reaches an error. We only see one error above because the program stops as soon as it finds a variable whose name starts with a number.\n",
    "\n",
    "Change the code in line 4 below to make the variable name valid and run the code again. What happens when the program reaches line 5?"
   ]
  },
  {
   "cell_type": "code",
   "execution_count": 4,
   "metadata": {
    "scrolled": true
   },
   "outputs": [],
   "source": [
    "age = 33 #correct\n",
    "_age = 33 #correct\n",
    "__age = 33 #correct\n",
    "five_age = 33  \n",
    "my_age = 33 "
   ]
  },
  {
   "cell_type": "markdown",
   "metadata": {},
   "source": [
    "## Practice 3b\n",
    "Fix the following code to create three valid variable names. Add `print` statements to display the values associated with each variable and run the code to verify that there are no errors. "
   ]
  },
  {
   "cell_type": "code",
   "execution_count": 5,
   "metadata": {},
   "outputs": [
    {
     "name": "stdout",
     "output_type": "stream",
     "text": [
      "{'name': 'Alex', 'age': 35, 'states': ['Kentucky', 'New Jersey']}\n"
     ]
    }
   ],
   "source": [
    "name = \"Alex\"\n",
    "__age = 35\n",
    "list_of_states = [\"Kentucky\", \"New Jersey\"]\n",
    "my_info = {'name': name, 'age': __age, 'states': list_of_states}\n",
    "\n",
    "print(my_info)\n"
   ]
  },
  {
   "cell_type": "markdown",
   "metadata": {},
   "source": [
    "## Practice 4 \n",
    "While longer names can be useful to make variable names meaningful, it is best practice to keep variable names relatively short whenever possible. Very long names can be hard to re-use because they take more time to key out and because the length makes it more likely that errors will occur when rekeying the name.\n",
    "\n",
    "Run the code in the following cell and then fix the problem so that the code will display the associated value correctly."
   ]
  },
  {
   "cell_type": "code",
   "execution_count": 6,
   "metadata": {},
   "outputs": [
    {
     "name": "stdout",
     "output_type": "stream",
     "text": [
      "5\n"
     ]
    }
   ],
   "source": [
    "short_variable_name = 5\n",
    "print(short_variable_name)\n"
   ]
  }
 ],
 "metadata": {
  "kernelspec": {
   "display_name": "Python 3",
   "language": "python",
   "name": "python3"
  },
  "language_info": {
   "codemirror_mode": {
    "name": "ipython",
    "version": 3
   },
   "file_extension": ".py",
   "mimetype": "text/x-python",
   "name": "python",
   "nbconvert_exporter": "python",
   "pygments_lexer": "ipython3",
   "version": "3.10.2"
  }
 },
 "nbformat": 4,
 "nbformat_minor": 2
}

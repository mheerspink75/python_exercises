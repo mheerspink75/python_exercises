{
 "cells": [
  {
   "cell_type": "markdown",
   "metadata": {},
   "source": [
    "# Worksheet: User Input\n",
    "This worksheet includes the practice activities for *Lesson 1C: User Input* in the online course. Refer to that lesson as necessary to complete these activities."
   ]
  },
  {
   "cell_type": "markdown",
   "metadata": {},
   "source": [
    "## Practice 1\n",
    "Create a program that prompts the user for their name and three states they have visited. \n",
    "\n",
    "Run the program and enter appropriate values at each prompt. Pay attention to what Python outputs for each prompt. What happens if you add a third or fourth prompt to the code?"
   ]
  },
  {
   "cell_type": "code",
   "execution_count": 1,
   "metadata": {},
   "outputs": [
    {
     "name": "stdin",
     "output_type": "stream",
     "text": [
      "Enter your name:  Matt\n"
     ]
    },
    {
     "name": "stdout",
     "output_type": "stream",
     "text": [
      "Hello Matt, please enter three states you have visited...\n"
     ]
    },
    {
     "name": "stdin",
     "output_type": "stream",
     "text": [
      "Enter state 1:  Michigan\n"
     ]
    },
    {
     "name": "stdout",
     "output_type": "stream",
     "text": [
      "State 1: Michigan\n"
     ]
    },
    {
     "name": "stdin",
     "output_type": "stream",
     "text": [
      "Enter state 2:  Arkansas\n"
     ]
    },
    {
     "name": "stdout",
     "output_type": "stream",
     "text": [
      "State 2: Arkansas\n"
     ]
    },
    {
     "name": "stdin",
     "output_type": "stream",
     "text": [
      "Enter state 3:  Colorado\n"
     ]
    },
    {
     "name": "stdout",
     "output_type": "stream",
     "text": [
      "State 3: Colorado\n",
      "{'name': 'Matt', 'states_visited': ['Michigan', 'Arkansas', 'Colorado']}\n"
     ]
    }
   ],
   "source": [
    "# Enter your code here\n",
    "def questions():\n",
    "    name = input('Enter your name: ')\n",
    "    print(f'Hello {name}, please enter three states you have visited...')\n",
    "\n",
    "    states_answers = list()\n",
    "    i = 0\n",
    "\n",
    "    while len(states_answers) < 3:\n",
    "        i += 1\n",
    "        states = input(f'Enter state {i}: ')\n",
    "        print(f'State {i}: {states}')\n",
    "\n",
    "        states_answers.append(states)\n",
    "\n",
    "    return print({'name': name, 'states_visited': states_answers})\n",
    "\n",
    "\n",
    "questions()\n"
   ]
  },
  {
   "cell_type": "markdown",
   "metadata": {},
   "source": [
    "## Practice 2\n",
    "Write code that asks the user for their first name as one input and their last name as a second input and stores each input in a separate variable.\n",
    "\t\n",
    "Use the `print` command to display the last name and then the first name.."
   ]
  },
  {
   "cell_type": "code",
   "execution_count": 2,
   "metadata": {
    "tags": []
   },
   "outputs": [
    {
     "name": "stdin",
     "output_type": "stream",
     "text": [
      "Enter your First name:  Matt\n",
      "Enter your Last name:  Heerspink\n"
     ]
    },
    {
     "name": "stdout",
     "output_type": "stream",
     "text": [
      "You Entered:  {'First name:': 'Matt', 'Last name': 'Heerspink'}\n"
     ]
    }
   ],
   "source": [
    "# Enter practice code here\n",
    "def questions():\n",
    "    q = [f_name, l_name] = ['First name: ', 'Last name: ']\n",
    "    i = 0\n",
    "\n",
    "    while i < len(q):\n",
    "        y = input(f'Enter your {q[i]}')\n",
    "        q[i] = y\n",
    "        i += 1\n",
    "        [f_name, l_name] = [q[0], q[1]]\n",
    "\n",
    "    return print('You Entered: ', {'First name:': f_name, 'Last name': l_name})\n",
    "\n",
    "\n",
    "questions()"
   ]
  }
 ],
 "metadata": {
  "kernelspec": {
   "display_name": "Python 3 (ipykernel)",
   "language": "python",
   "name": "python3"
  },
  "language_info": {
   "codemirror_mode": {
    "name": "ipython",
    "version": 3
   },
   "file_extension": ".py",
   "mimetype": "text/x-python",
   "name": "python",
   "nbconvert_exporter": "python",
   "pygments_lexer": "ipython3",
   "version": "3.8.10"
  }
 },
 "nbformat": 4,
 "nbformat_minor": 4
}

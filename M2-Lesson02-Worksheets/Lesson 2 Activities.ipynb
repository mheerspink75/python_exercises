{
 "cells": [
  {
   "cell_type": "markdown",
   "metadata": {},
   "source": [
    "# Lesson 2 Activities\n",
    "The activities in this page will allow you to demonstrate your ability to:\n",
    "\n",
    "* Create a Python script that uses a `for` loop to repeat an activity until a specific criterion is met.\n",
    "* Create a Python script that uses a `while` loop to repeat an activity as long as a specific criterion holds true."
   ]
  },
  {
   "cell_type": "markdown",
   "metadata": {},
   "source": [
    "## Activity 1\n",
    "Given the list `fruit_list`, write a script that iterates through the list and prints each item on a separate line."
   ]
  },
  {
   "cell_type": "code",
   "execution_count": 41,
   "metadata": {},
   "outputs": [
    {
     "name": "stdout",
     "output_type": "stream",
     "text": [
      "apple\n",
      "banana\n",
      "cherry\n",
      "gooseberry\n",
      "kumquat\n",
      "orange\n",
      "pineapple\n"
     ]
    }
   ],
   "source": [
    "fruit_list = [\"apple\", \"banana\", \"cherry\",\n",
    "              \"gooseberry\", \"kumquat\", \"orange\", \"pineapple\"]\n",
    "\n",
    "# your code here\n",
    "\n",
    "\n",
    "for fruit in fruit_list:\n",
    "    print(fruit)\n"
   ]
  },
  {
   "cell_type": "markdown",
   "metadata": {},
   "source": [
    "## Activity 2\n",
    "Write a script that asks the user for a string and displays the characters of the string to the user, with each character on a new line.\n",
    "\n",
    "For example, if the input is `Hello`, the output should be:\n",
    "\n",
    "    H\n",
    "    e\n",
    "    l\n",
    "    l\n",
    "    o"
   ]
  },
  {
   "cell_type": "code",
   "execution_count": 46,
   "metadata": {},
   "outputs": [
    {
     "name": "stdout",
     "output_type": "stream",
     "text": [
      "H\n",
      "e\n",
      "l\n",
      "l\n",
      "o\n"
     ]
    }
   ],
   "source": [
    "# your code here\n",
    "\n",
    "\n",
    "def get_string():\n",
    "    count = 0\n",
    "    while count < 1:\n",
    "        l = input('Enter your string:')\n",
    "        for i in l:\n",
    "            print(i)\n",
    "            count += 1\n",
    "        break\n",
    "\n",
    "\n",
    "get_string()\n"
   ]
  },
  {
   "cell_type": "markdown",
   "metadata": {},
   "source": [
    "## Activity 3\n",
    "Write a script that computes the length of a string without using the `len()` function."
   ]
  },
  {
   "cell_type": "code",
   "execution_count": 29,
   "metadata": {},
   "outputs": [
    {
     "name": "stdout",
     "output_type": "stream",
     "text": [
      "5\n"
     ]
    }
   ],
   "source": [
    "# your code here\n",
    "my_string = 'hello'\n",
    "\n",
    "\n",
    "def count_string():\n",
    "    count = 0\n",
    "    for i in my_string:\n",
    "        count += 1\n",
    "\n",
    "    return print(count)\n",
    "\n",
    "\n",
    "count_string()\n"
   ]
  },
  {
   "cell_type": "markdown",
   "metadata": {},
   "source": [
    "## Activity 4\n",
    "Create a program that starts with a list of strings, identifies all the strings with more than two characters, stores the results in another list, and displays the new list.\n",
    "\n",
    "For example:\n",
    "\n",
    "    a = [\"a\", \"bc\", \"rye\", \"hello\", \"c\", \"\"]\n",
    "\n",
    "Output:\n",
    "\n",
    "    [\"rye\", \"hello\"]"
   ]
  },
  {
   "cell_type": "code",
   "execution_count": 30,
   "metadata": {},
   "outputs": [
    {
     "data": {
      "text/plain": [
       "['rye', 'hello']"
      ]
     },
     "execution_count": 30,
     "metadata": {},
     "output_type": "execute_result"
    }
   ],
   "source": [
    "# your code here\n",
    "a = [\"a\", \"bc\", \"rye\", \"hello\", \"c\", \"\"]\n",
    "\n",
    "[a[i] for i in range(len(a)) if len(a[i]) > 2]"
   ]
  },
  {
   "cell_type": "markdown",
   "metadata": {},
   "source": [
    "## Activity 5\n",
    "Write two scripts, each of which displays all numbers divisible by 50 between 100 and 1000 (inclusive).\n",
    "* Use the `range` function with `for` in one script.\n",
    "* Use `while` without `range` in the other script.\n",
    "\n",
    "Both scripts should have identical outputs."
   ]
  },
  {
   "cell_type": "code",
   "execution_count": 65,
   "metadata": {},
   "outputs": [
    {
     "data": {
      "text/plain": [
       "{100,\n",
       " 150,\n",
       " 200,\n",
       " 250,\n",
       " 300,\n",
       " 350,\n",
       " 400,\n",
       " 450,\n",
       " 500,\n",
       " 550,\n",
       " 600,\n",
       " 650,\n",
       " 700,\n",
       " 750,\n",
       " 800,\n",
       " 850,\n",
       " 900,\n",
       " 950,\n",
       " 1000}"
      ]
     },
     "execution_count": 65,
     "metadata": {},
     "output_type": "execute_result"
    }
   ],
   "source": [
    "# script 1: range\n",
    "# your code here\n",
    "\n",
    "{i for i in range(1001) if i % 50 == 0 and i >= 100 and i <= 1000}\n"
   ]
  },
  {
   "cell_type": "code",
   "execution_count": 66,
   "metadata": {},
   "outputs": [
    {
     "name": "stdout",
     "output_type": "stream",
     "text": [
      "100\n",
      "150\n",
      "200\n",
      "250\n",
      "300\n",
      "350\n",
      "400\n",
      "450\n",
      "500\n",
      "550\n",
      "600\n",
      "650\n",
      "700\n",
      "750\n",
      "800\n",
      "850\n",
      "900\n",
      "950\n",
      "1000\n"
     ]
    }
   ],
   "source": [
    "# script 2: while\n",
    "# your code here\n",
    "\n",
    "\n",
    "def mod():\n",
    "    i = 0\n",
    "    while i < 1001:\n",
    "        i += 1\n",
    "        if i % 50 == 0 and i >= 100 and i <= 1000:\n",
    "            print(i)\n",
    "\n",
    "\n",
    "mod()\n"
   ]
  },
  {
   "cell_type": "markdown",
   "metadata": {},
   "source": [
    "## Activity 6\n",
    "Create a script that computes the sum of all numbers between 0 and 100."
   ]
  },
  {
   "cell_type": "code",
   "execution_count": 78,
   "metadata": {},
   "outputs": [
    {
     "data": {
      "text/plain": [
       "5050"
      ]
     },
     "execution_count": 78,
     "metadata": {},
     "output_type": "execute_result"
    }
   ],
   "source": [
    "# your code here\n",
    "\n",
    "sum([i for i in range(0, 101)])\n"
   ]
  },
  {
   "cell_type": "markdown",
   "metadata": {},
   "source": [
    "## Activity 7\n",
    "Create a script that computes the factorial of any given number."
   ]
  },
  {
   "cell_type": "code",
   "execution_count": 7,
   "metadata": {},
   "outputs": [
    {
     "data": {
      "text/plain": [
       "'Factorial of 10 is 3628800'"
      ]
     },
     "execution_count": 7,
     "metadata": {},
     "output_type": "execute_result"
    }
   ],
   "source": [
    "# your code here\n",
    "import math  \n",
    " \n",
    "num = int(input(\"Enter the number:\"))  \n",
    "fact = lambda n: math.factorial(n)\n",
    "  \n",
    "f'Factorial of {num} is {fact(num)}'  "
   ]
  },
  {
   "cell_type": "markdown",
   "metadata": {},
   "source": [
    "##  Activity 8\n",
    "Starting with the defined `fruit_list` in the code block below, update the script to perform the following tasks.\n",
    "\n",
    "1. Prompt the user to enter the name of a fruit.\n",
    "1. If the fruit is in `fruit_list`, display an appropriate message to the user and tell the user its index value in the list.\n",
    "1. If the fruit is not in `fruit_list`, display an appropriate message to the user and prompt them to try again.\n",
    "1. The script should repeat itself until the user enters a stop word at the prompt.\n",
    "\n",
    "**Tip:** It's always a good idea to tell the user how to end a loop!"
   ]
  },
  {
   "cell_type": "code",
   "execution_count": 108,
   "metadata": {},
   "outputs": [
    {
     "name": "stdout",
     "output_type": "stream",
     "text": [
      "Type \"quit\" to exit\n",
      "\n",
      "Enter a name of a fruit...\n",
      "Apple found at index: 0\n",
      "Cherry found at index: 2\n",
      "Kumquat found at index: 4\n",
      "watermelon  not in list...\n",
      "Try again!\n",
      "watermellon  not in list...\n",
      "Try again!\n",
      "grapes  not in list...\n",
      "Try again!\n",
      "Orange found at index: 5\n"
     ]
    },
    {
     "data": {
      "text/plain": [
       "'QUIT'"
      ]
     },
     "execution_count": 108,
     "metadata": {},
     "output_type": "execute_result"
    }
   ],
   "source": [
    "fruit_list = [\"apple\", \"banana\", \"cherry\",\n",
    "              \"gooseberry\", \"kumquat\", \"orange\", \"pineapple\"]\n",
    "\n",
    "# your code here\n",
    "\n",
    "\n",
    "def get_fruit():\n",
    "    print('Type \"quit\" to exit\\n')\n",
    "\n",
    "    print('Enter a name of a fruit...')\n",
    "    i = 0\n",
    "    while i < 1:\n",
    "        q = input().lower()\n",
    "        if fruit_list.__contains__(q):\n",
    "            print(f'{q.capitalize()} found at index: {fruit_list.index(q)}')\n",
    "            continue\n",
    "        elif q == 'quit':\n",
    "            i += 1\n",
    "            break\n",
    "        else:\n",
    "            print(q, ' not in list...\\nTry again!')\n",
    "            continue\n",
    "\n",
    "    return q.upper()\n",
    "\n",
    "\n",
    "get_fruit()\n"
   ]
  },
  {
   "cell_type": "markdown",
   "metadata": {},
   "source": [
    "## Activity 9\n",
    "Create a script that asks the user for a variable number of values and displays the sum of those values to the user. \n",
    "\t\n",
    "The program should prompt the user for values until the user enters the word \"quit\" (uppercase or lowercase), display the values used in the calculation, and then display the total of those values."
   ]
  },
  {
   "cell_type": "code",
   "execution_count": 5,
   "metadata": {},
   "outputs": [
    {
     "name": "stdout",
     "output_type": "stream",
     "text": [
      "Enter number... or, q = quit \n",
      "Enter number... or, q = quit -> number list: [123]\n",
      "Enter number... or, q = quit \n",
      "Enter a positive, whole number...\n",
      "-> Try again!\n",
      "Enter number... or, q = quit -> number list: [123, 456]\n",
      "Enter number... or, q = quit -> number list: [123, 456, 789]\n",
      "-> quit!\n",
      "number list: [123, 456, 789]\n",
      "-> sum: 1368\n"
     ]
    }
   ],
   "source": [
    "# your code here\n",
    "\n",
    "\n",
    "def get_sum():\n",
    "    num_list = list()\n",
    "    message = ''\n",
    "\n",
    "    i = 0\n",
    "    while i < 1:\n",
    "        print(f'Enter number... or, q = quit {message}')\n",
    "        q = input()\n",
    "        if q.isnumeric():\n",
    "            num = int(q)\n",
    "            num_list.append(num)\n",
    "            message = f'-> number list: {num_list}'\n",
    "            continue\n",
    "        elif q == 'q':\n",
    "            x = sum(num_list)\n",
    "            message = f'-> quit!\\nnumber list: {num_list}\\n-> sum: {x}'\n",
    "            i += 1\n",
    "            break\n",
    "        else:\n",
    "            message = '\\nEnter a positive, whole number...\\n-> Try again!'\n",
    "            continue\n",
    "\n",
    "    return print(message)\n",
    "\n",
    "\n",
    "get_sum()\n"
   ]
  },
  {
   "cell_type": "markdown",
   "metadata": {},
   "source": [
    "## Activity 10\n",
    "Write a script that asks the user for an integer value and then displays the multiplication table of that input number from 1 through the integer squared."
   ]
  },
  {
   "cell_type": "code",
   "execution_count": 11,
   "metadata": {},
   "outputs": [
    {
     "name": "stdout",
     "output_type": "stream",
     "text": [
      "Please enter a number...\n",
      "Enter a positive whole number...\n",
      "Please enter a number...\n",
      "1 * 5 = 5\n",
      "2 * 5 = 10\n",
      "3 * 5 = 15\n",
      "4 * 5 = 20\n",
      "5 * 5 = 25\n",
      "6 * 5 = 30\n",
      "7 * 5 = 35\n",
      "8 * 5 = 40\n",
      "9 * 5 = 45\n",
      "10 * 5 = 50\n",
      "11 * 5 = 55\n",
      "12 * 5 = 60\n",
      "13 * 5 = 65\n",
      "14 * 5 = 70\n",
      "15 * 5 = 75\n",
      "16 * 5 = 80\n",
      "17 * 5 = 85\n",
      "18 * 5 = 90\n",
      "19 * 5 = 95\n",
      "20 * 5 = 100\n",
      "21 * 5 = 105\n",
      "22 * 5 = 110\n",
      "23 * 5 = 115\n",
      "24 * 5 = 120\n",
      "25 * 5 = 125\n"
     ]
    }
   ],
   "source": [
    "# your code here\n",
    "\n",
    "def get_input():\n",
    "    i = 0\n",
    "    while i < 1:\n",
    "        print('Please enter a number...')\n",
    "        q = input()\n",
    "        if q.isnumeric():\n",
    "            num = int(q)\n",
    "            x = [print(i, f'* {num} =', num * i)\n",
    "                 for i in range(1, num**2+1)].clear()\n",
    "            i += 1\n",
    "            return x\n",
    "        else:\n",
    "            print('Enter a positive whole number...')\n",
    "            continue\n",
    "\n",
    "\n",
    "get_input()\n"
   ]
  },
  {
   "cell_type": "markdown",
   "metadata": {},
   "source": [
    "## Activity 11\n",
    "Create a script that identifies all prime numbers between 0 and 100. "
   ]
  },
  {
   "cell_type": "code",
   "execution_count": 77,
   "metadata": {},
   "outputs": [
    {
     "data": {
      "text/plain": [
       "{2,\n",
       " 3,\n",
       " 5,\n",
       " 7,\n",
       " 11,\n",
       " 13,\n",
       " 17,\n",
       " 19,\n",
       " 23,\n",
       " 29,\n",
       " 31,\n",
       " 37,\n",
       " 41,\n",
       " 43,\n",
       " 47,\n",
       " 53,\n",
       " 59,\n",
       " 61,\n",
       " 67,\n",
       " 71,\n",
       " 73,\n",
       " 79,\n",
       " 83,\n",
       " 89,\n",
       " 97}"
      ]
     },
     "execution_count": 77,
     "metadata": {},
     "output_type": "execute_result"
    }
   ],
   "source": [
    "# your code here\n",
    "import math\n",
    "\n",
    "\n",
    "def isprime(num):\n",
    "    a = 2\n",
    "    while a <= math.sqrt(num):\n",
    "        if num % a < 1:\n",
    "            return False\n",
    "        a += 1\n",
    "        \n",
    "    return num > 1\n",
    "\n",
    "\n",
    "{i for i in range(0, 101) if isprime(i) == True}\n"
   ]
  },
  {
   "cell_type": "markdown",
   "metadata": {},
   "source": [
    "## Activity 12\n",
    "Write a script that calculates the greatest common denominator between two numbers.\n",
    "\n",
    "For example, given the numbers 18 and 27, the greatest common denominator is 9."
   ]
  },
  {
   "cell_type": "code",
   "execution_count": 22,
   "metadata": {},
   "outputs": [
    {
     "name": "stdout",
     "output_type": "stream",
     "text": [
      "Please enter a number...\n",
      "Please enter a positive whole number...\n",
      "The gcd of 12341239048104380841023980 and 153251923479817234978234081083102980 is 20\n"
     ]
    }
   ],
   "source": [
    "# your code here\n",
    "import math\n",
    "\n",
    "\n",
    "def get_gcd():\n",
    "    n = []\n",
    "    print('Please enter a number...')\n",
    "\n",
    "    while len(n) < 2:\n",
    "        q = input()\n",
    "        if q.isnumeric():\n",
    "            num = int(q)\n",
    "            n.append(num)\n",
    "        else:\n",
    "            print('Please enter a positive whole number...')\n",
    "            continue\n",
    "    gcd = math.gcd(n[0], n[1])\n",
    "\n",
    "    return print(f'The gcd of {n[0]} and {n[1]} is {gcd}')\n",
    "\n",
    "\n",
    "get_gcd()\n"
   ]
  },
  {
   "cell_type": "markdown",
   "metadata": {},
   "source": [
    "## Activity 13\n",
    "Write a script that computes the frequency of each digit in a given integer.\n",
    "\n",
    "For example, if the input number is 334, the output should be:\n",
    "\n",
    "    3 occurs 2 times \n",
    "    4 occurs 1 time"
   ]
  },
  {
   "cell_type": "code",
   "execution_count": null,
   "metadata": {},
   "outputs": [],
   "source": [
    "# your code here\n"
   ]
  },
  {
   "cell_type": "markdown",
   "metadata": {},
   "source": [
    "## Activity 14\n",
    "\n",
    "Write a script that calculates the lowest common multiple of two given integers.\n",
    "\n",
    "For example, given the values 4 and 6, the lowest common multiple is 12."
   ]
  },
  {
   "cell_type": "code",
   "execution_count": 1,
   "metadata": {},
   "outputs": [],
   "source": [
    "# your code here"
   ]
  },
  {
   "cell_type": "markdown",
   "metadata": {},
   "source": [
    "## Activity 15\n",
    "Write a script that determines if an input number can be expressed as the sum of two prime numbers. \n",
    "\n",
    "For example, the number `10` can be expressed as the sum of two prime numbers:\n",
    "* 10 = 3 + 7 : both prime numbers \n",
    "* 10 = 5 + 5 : both prime numbers \n",
    "\n",
    "However, the number `11` cannot be:\n",
    "* 11 = 1 + 10 : neither 1 nor 10 are prime numbers\n",
    "* 11 = 2 + 9 : 9 is not a prime number\n",
    "* 11 = 3 + 8 : 8 is not a prime number\n",
    "* 11 = 4 + 7 : 4 is not a prime number\n",
    "* 11 = 5 + 6 : 6 is not a prime number"
   ]
  },
  {
   "cell_type": "code",
   "execution_count": null,
   "metadata": {},
   "outputs": [],
   "source": [
    "# your code here"
   ]
  }
 ],
 "metadata": {
  "kernelspec": {
   "display_name": "Python 3",
   "language": "python",
   "name": "python3"
  },
  "language_info": {
   "codemirror_mode": {
    "name": "ipython",
    "version": 3
   },
   "file_extension": ".py",
   "mimetype": "text/x-python",
   "name": "python",
   "nbconvert_exporter": "python",
   "pygments_lexer": "ipython3",
   "version": "3.10.2"
  }
 },
 "nbformat": 4,
 "nbformat_minor": 2
}

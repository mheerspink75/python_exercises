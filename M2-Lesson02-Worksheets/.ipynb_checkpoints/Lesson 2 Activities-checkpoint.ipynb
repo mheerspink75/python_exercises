{
 "cells": [
  {
   "cell_type": "markdown",
   "metadata": {},
   "source": [
    "# Lesson 2 Activities\n",
    "The activities in this page will allow you to demonstrate your ability to:\n",
    "\n",
    "* Create a Python script that uses a `for` loop to repeat an activity until a specific criterion is met.\n",
    "* Create a Python script that uses a `while` loop to repeat an activity as long as a specific criterion holds true."
   ]
  },
  {
   "cell_type": "markdown",
   "metadata": {},
   "source": [
    "## Activity 1\n",
    "Given the list `fruit_list`, write a script that iterates through the list and prints each item on a separate line."
   ]
  },
  {
   "cell_type": "code",
   "execution_count": 1,
   "metadata": {},
   "outputs": [
    {
     "name": "stdout",
     "output_type": "stream",
     "text": [
      "apple\n",
      "banana\n",
      "cherry\n",
      "gooseberry\n",
      "kumquat\n",
      "orange\n",
      "pineapple\n"
     ]
    }
   ],
   "source": [
    "fruit_list = [\"apple\", \"banana\", \"cherry\",\n",
    "              \"gooseberry\", \"kumquat\", \"orange\", \"pineapple\"]\n",
    "\n",
    "# your code here\n",
    "\n",
    "\n",
    "for fruit in fruit_list:\n",
    "    print(fruit)\n"
   ]
  },
  {
   "cell_type": "markdown",
   "metadata": {},
   "source": [
    "## Activity 2\n",
    "Write a script that asks the user for a string and displays the characters of the string to the user, with each character on a new line.\n",
    "\n",
    "For example, if the input is `Hello`, the output should be:\n",
    "\n",
    "    H\n",
    "    e\n",
    "    l\n",
    "    l\n",
    "    o"
   ]
  },
  {
   "cell_type": "code",
   "execution_count": 2,
   "metadata": {},
   "outputs": [
    {
     "name": "stdin",
     "output_type": "stream",
     "text": [
      "Enter your string: Hello\n"
     ]
    },
    {
     "name": "stdout",
     "output_type": "stream",
     "text": [
      "H\n",
      "e\n",
      "l\n",
      "l\n",
      "o\n"
     ]
    }
   ],
   "source": [
    "# your code here\n",
    "\n",
    "\n",
    "def get_string():\n",
    "    count = 0\n",
    "    while count < 1:\n",
    "        l = input('Enter your string:')\n",
    "        for i in l:\n",
    "            print(i)\n",
    "            count += 1\n",
    "        break\n",
    "\n",
    "\n",
    "get_string()\n"
   ]
  },
  {
   "cell_type": "markdown",
   "metadata": {},
   "source": [
    "## Activity 3\n",
    "Write a script that computes the length of a string without using the `len()` function."
   ]
  },
  {
   "cell_type": "code",
   "execution_count": 3,
   "metadata": {},
   "outputs": [
    {
     "name": "stdout",
     "output_type": "stream",
     "text": [
      "5\n"
     ]
    }
   ],
   "source": [
    "# your code here\n",
    "my_string = 'hello'\n",
    "\n",
    "\n",
    "def count_string():\n",
    "    count = 0\n",
    "    for i in my_string:\n",
    "        count += 1\n",
    "\n",
    "    return print(count)\n",
    "\n",
    "\n",
    "count_string()\n"
   ]
  },
  {
   "cell_type": "markdown",
   "metadata": {},
   "source": [
    "## Activity 4\n",
    "Create a program that starts with a list of strings, identifies all the strings with more than two characters, stores the results in another list, and displays the new list.\n",
    "\n",
    "For example:\n",
    "\n",
    "    a = [\"a\", \"bc\", \"rye\", \"hello\", \"c\", \"\"]\n",
    "\n",
    "Output:\n",
    "\n",
    "    [\"rye\", \"hello\"]"
   ]
  },
  {
   "cell_type": "code",
   "execution_count": 4,
   "metadata": {},
   "outputs": [
    {
     "data": {
      "text/plain": [
       "['rye', 'hello']"
      ]
     },
     "execution_count": 4,
     "metadata": {},
     "output_type": "execute_result"
    }
   ],
   "source": [
    "# your code here\n",
    "a = [\"a\", \"bc\", \"rye\", \"hello\", \"c\", \"\"]\n",
    "\n",
    "[a[i] for i in range(len(a)) if len(a[i]) > 2]"
   ]
  },
  {
   "cell_type": "markdown",
   "metadata": {},
   "source": [
    "## Activity 5\n",
    "Write two scripts, each of which displays all numbers divisible by 50 between 100 and 1000 (inclusive).\n",
    "* Use the `range` function with `for` in one script.\n",
    "* Use `while` without `range` in the other script.\n",
    "\n",
    "Both scripts should have identical outputs."
   ]
  },
  {
   "cell_type": "code",
   "execution_count": 5,
   "metadata": {},
   "outputs": [
    {
     "data": {
      "text/plain": [
       "{100,\n",
       " 150,\n",
       " 200,\n",
       " 250,\n",
       " 300,\n",
       " 350,\n",
       " 400,\n",
       " 450,\n",
       " 500,\n",
       " 550,\n",
       " 600,\n",
       " 650,\n",
       " 700,\n",
       " 750,\n",
       " 800,\n",
       " 850,\n",
       " 900,\n",
       " 950,\n",
       " 1000}"
      ]
     },
     "execution_count": 5,
     "metadata": {},
     "output_type": "execute_result"
    }
   ],
   "source": [
    "# script 1: range\n",
    "# your code here\n",
    "\n",
    "{i for i in range(1001) if i % 50 == 0 and i >= 100 and i <= 1000}\n"
   ]
  },
  {
   "cell_type": "code",
   "execution_count": 6,
   "metadata": {},
   "outputs": [
    {
     "name": "stdout",
     "output_type": "stream",
     "text": [
      "100\n",
      "150\n",
      "200\n",
      "250\n",
      "300\n",
      "350\n",
      "400\n",
      "450\n",
      "500\n",
      "550\n",
      "600\n",
      "650\n",
      "700\n",
      "750\n",
      "800\n",
      "850\n",
      "900\n",
      "950\n",
      "1000\n"
     ]
    }
   ],
   "source": [
    "# script 2: while\n",
    "# your code here\n",
    "\n",
    "\n",
    "def mod():\n",
    "    i = 0\n",
    "    while i < 1001:\n",
    "        i += 1\n",
    "        if i % 50 == 0 and i >= 100 and i <= 1000:\n",
    "            print(i)\n",
    "\n",
    "\n",
    "mod()\n"
   ]
  },
  {
   "cell_type": "markdown",
   "metadata": {},
   "source": [
    "## Activity 6\n",
    "Create a script that computes the sum of all numbers between 0 and 100."
   ]
  },
  {
   "cell_type": "code",
   "execution_count": 7,
   "metadata": {},
   "outputs": [
    {
     "data": {
      "text/plain": [
       "5050"
      ]
     },
     "execution_count": 7,
     "metadata": {},
     "output_type": "execute_result"
    }
   ],
   "source": [
    "# your code here\n",
    "\n",
    "sum([i for i in range(0, 101)])\n"
   ]
  },
  {
   "cell_type": "markdown",
   "metadata": {},
   "source": [
    "## Activity 7\n",
    "Create a script that computes the factorial of any given number."
   ]
  },
  {
   "cell_type": "code",
   "execution_count": 8,
   "metadata": {},
   "outputs": [
    {
     "name": "stdin",
     "output_type": "stream",
     "text": [
      "Enter the number: 10\n"
     ]
    },
    {
     "data": {
      "text/plain": [
       "'Factorial of 10 is 3628800'"
      ]
     },
     "execution_count": 8,
     "metadata": {},
     "output_type": "execute_result"
    }
   ],
   "source": [
    "# your code here\n",
    "import math  \n",
    " \n",
    "num = int(input(\"Enter the number:\"))  \n",
    "fact = lambda n: math.factorial(n)\n",
    "  \n",
    "f'Factorial of {num} is {fact(num)}'  "
   ]
  },
  {
   "cell_type": "markdown",
   "metadata": {},
   "source": [
    "##  Activity 8\n",
    "Starting with the defined `fruit_list` in the code block below, update the script to perform the following tasks.\n",
    "\n",
    "1. Prompt the user to enter the name of a fruit.\n",
    "1. If the fruit is in `fruit_list`, display an appropriate message to the user and tell the user its index value in the list.\n",
    "1. If the fruit is not in `fruit_list`, display an appropriate message to the user and prompt them to try again.\n",
    "1. The script should repeat itself until the user enters a stop word at the prompt.\n",
    "\n",
    "**Tip:** It's always a good idea to tell the user how to end a loop!"
   ]
  },
  {
   "cell_type": "code",
   "execution_count": 9,
   "metadata": {},
   "outputs": [
    {
     "name": "stdout",
     "output_type": "stream",
     "text": [
      "Type \"quit\" to exit\n",
      "\n",
      "Enter a name of a fruit...\n"
     ]
    },
    {
     "name": "stdin",
     "output_type": "stream",
     "text": [
      " Apple\n"
     ]
    },
    {
     "name": "stdout",
     "output_type": "stream",
     "text": [
      "Apple found at index: 0\n"
     ]
    },
    {
     "name": "stdin",
     "output_type": "stream",
     "text": [
      " Banana\n"
     ]
    },
    {
     "name": "stdout",
     "output_type": "stream",
     "text": [
      "Banana found at index: 1\n"
     ]
    },
    {
     "name": "stdin",
     "output_type": "stream",
     "text": [
      " Pear\n"
     ]
    },
    {
     "name": "stdout",
     "output_type": "stream",
     "text": [
      "pear  not in list...\n",
      "Try again!\n"
     ]
    },
    {
     "name": "stdin",
     "output_type": "stream",
     "text": [
      " gooseberry\n"
     ]
    },
    {
     "name": "stdout",
     "output_type": "stream",
     "text": [
      "Gooseberry found at index: 3\n"
     ]
    },
    {
     "name": "stdin",
     "output_type": "stream",
     "text": [
      " quit\n"
     ]
    },
    {
     "data": {
      "text/plain": [
       "'QUIT'"
      ]
     },
     "execution_count": 9,
     "metadata": {},
     "output_type": "execute_result"
    }
   ],
   "source": [
    "fruit_list = [\"apple\", \"banana\", \"cherry\",\n",
    "              \"gooseberry\", \"kumquat\", \"orange\", \"pineapple\"]\n",
    "\n",
    "# your code here\n",
    "\n",
    "\n",
    "def get_fruit():\n",
    "    print('Type \"quit\" to exit\\n')\n",
    "\n",
    "    print('Enter a name of a fruit...')\n",
    "    i = 0\n",
    "    while i < 1:\n",
    "        q = input().lower()\n",
    "        if fruit_list.__contains__(q):\n",
    "            print(f'{q.capitalize()} found at index: {fruit_list.index(q)}')\n",
    "            continue\n",
    "        elif q == 'quit':\n",
    "            i += 1\n",
    "            break\n",
    "        else:\n",
    "            print(q, ' not in list...\\nTry again!')\n",
    "            continue\n",
    "\n",
    "    return q.upper()\n",
    "\n",
    "\n",
    "get_fruit()\n"
   ]
  },
  {
   "cell_type": "markdown",
   "metadata": {},
   "source": [
    "## Activity 9\n",
    "Create a script that asks the user for a variable number of values and displays the sum of those values to the user. \n",
    "\t\n",
    "The program should prompt the user for values until the user enters the word \"quit\" (uppercase or lowercase), display the values used in the calculation, and then display the total of those values."
   ]
  },
  {
   "cell_type": "code",
   "execution_count": 10,
   "metadata": {},
   "outputs": [
    {
     "name": "stdout",
     "output_type": "stream",
     "text": [
      "Enter number... or, q = quit \n"
     ]
    },
    {
     "name": "stdin",
     "output_type": "stream",
     "text": [
      " 1\n"
     ]
    },
    {
     "name": "stdout",
     "output_type": "stream",
     "text": [
      "Enter number... or, q = quit -> number list: [1]\n"
     ]
    },
    {
     "name": "stdin",
     "output_type": "stream",
     "text": [
      " 5\n"
     ]
    },
    {
     "name": "stdout",
     "output_type": "stream",
     "text": [
      "Enter number... or, q = quit -> number list: [1, 5]\n"
     ]
    },
    {
     "name": "stdin",
     "output_type": "stream",
     "text": [
      " 985\n"
     ]
    },
    {
     "name": "stdout",
     "output_type": "stream",
     "text": [
      "Enter number... or, q = quit -> number list: [1, 5, 985]\n"
     ]
    },
    {
     "name": "stdin",
     "output_type": "stream",
     "text": [
      " 234\n"
     ]
    },
    {
     "name": "stdout",
     "output_type": "stream",
     "text": [
      "Enter number... or, q = quit -> number list: [1, 5, 985, 234]\n"
     ]
    },
    {
     "name": "stdin",
     "output_type": "stream",
     "text": [
      " q\n"
     ]
    },
    {
     "name": "stdout",
     "output_type": "stream",
     "text": [
      "-> quit!\n",
      "number list: [1, 5, 985, 234]\n",
      "-> sum: 1225\n"
     ]
    }
   ],
   "source": [
    "# your code here\n",
    "\n",
    "\n",
    "def get_sum():\n",
    "    num_list = list()\n",
    "    message = ''\n",
    "\n",
    "    i = 0\n",
    "    while i < 1:\n",
    "        print(f'Enter number... or, q = quit {message}')\n",
    "        q = input()\n",
    "        if q.isnumeric():\n",
    "            num = int(q)\n",
    "            num_list.append(num)\n",
    "            message = f'-> number list: {num_list}'\n",
    "            continue\n",
    "        elif q == 'q':\n",
    "            x = sum(num_list)\n",
    "            message = f'-> quit!\\nnumber list: {num_list}\\n-> sum: {x}'\n",
    "            i += 1\n",
    "            break\n",
    "        else:\n",
    "            message = '\\nEnter a positive, whole number...\\n-> Try again!'\n",
    "            continue\n",
    "\n",
    "    return print(message)\n",
    "\n",
    "\n",
    "get_sum()\n"
   ]
  },
  {
   "cell_type": "markdown",
   "metadata": {},
   "source": [
    "## Activity 10\n",
    "Write a script that asks the user for an integer value and then displays the multiplication table of that input number from 1 through the integer squared."
   ]
  },
  {
   "cell_type": "code",
   "execution_count": 11,
   "metadata": {},
   "outputs": [
    {
     "name": "stdout",
     "output_type": "stream",
     "text": [
      "Please enter a number...\n"
     ]
    },
    {
     "name": "stdin",
     "output_type": "stream",
     "text": [
      " 10\n"
     ]
    },
    {
     "name": "stdout",
     "output_type": "stream",
     "text": [
      "1 * 10 = 10\n",
      "2 * 10 = 20\n",
      "3 * 10 = 30\n",
      "4 * 10 = 40\n",
      "5 * 10 = 50\n",
      "6 * 10 = 60\n",
      "7 * 10 = 70\n",
      "8 * 10 = 80\n",
      "9 * 10 = 90\n",
      "10 * 10 = 100\n",
      "11 * 10 = 110\n",
      "12 * 10 = 120\n",
      "13 * 10 = 130\n",
      "14 * 10 = 140\n",
      "15 * 10 = 150\n",
      "16 * 10 = 160\n",
      "17 * 10 = 170\n",
      "18 * 10 = 180\n",
      "19 * 10 = 190\n",
      "20 * 10 = 200\n",
      "21 * 10 = 210\n",
      "22 * 10 = 220\n",
      "23 * 10 = 230\n",
      "24 * 10 = 240\n",
      "25 * 10 = 250\n",
      "26 * 10 = 260\n",
      "27 * 10 = 270\n",
      "28 * 10 = 280\n",
      "29 * 10 = 290\n",
      "30 * 10 = 300\n",
      "31 * 10 = 310\n",
      "32 * 10 = 320\n",
      "33 * 10 = 330\n",
      "34 * 10 = 340\n",
      "35 * 10 = 350\n",
      "36 * 10 = 360\n",
      "37 * 10 = 370\n",
      "38 * 10 = 380\n",
      "39 * 10 = 390\n",
      "40 * 10 = 400\n",
      "41 * 10 = 410\n",
      "42 * 10 = 420\n",
      "43 * 10 = 430\n",
      "44 * 10 = 440\n",
      "45 * 10 = 450\n",
      "46 * 10 = 460\n",
      "47 * 10 = 470\n",
      "48 * 10 = 480\n",
      "49 * 10 = 490\n",
      "50 * 10 = 500\n",
      "51 * 10 = 510\n",
      "52 * 10 = 520\n",
      "53 * 10 = 530\n",
      "54 * 10 = 540\n",
      "55 * 10 = 550\n",
      "56 * 10 = 560\n",
      "57 * 10 = 570\n",
      "58 * 10 = 580\n",
      "59 * 10 = 590\n",
      "60 * 10 = 600\n",
      "61 * 10 = 610\n",
      "62 * 10 = 620\n",
      "63 * 10 = 630\n",
      "64 * 10 = 640\n",
      "65 * 10 = 650\n",
      "66 * 10 = 660\n",
      "67 * 10 = 670\n",
      "68 * 10 = 680\n",
      "69 * 10 = 690\n",
      "70 * 10 = 700\n",
      "71 * 10 = 710\n",
      "72 * 10 = 720\n",
      "73 * 10 = 730\n",
      "74 * 10 = 740\n",
      "75 * 10 = 750\n",
      "76 * 10 = 760\n",
      "77 * 10 = 770\n",
      "78 * 10 = 780\n",
      "79 * 10 = 790\n",
      "80 * 10 = 800\n",
      "81 * 10 = 810\n",
      "82 * 10 = 820\n",
      "83 * 10 = 830\n",
      "84 * 10 = 840\n",
      "85 * 10 = 850\n",
      "86 * 10 = 860\n",
      "87 * 10 = 870\n",
      "88 * 10 = 880\n",
      "89 * 10 = 890\n",
      "90 * 10 = 900\n",
      "91 * 10 = 910\n",
      "92 * 10 = 920\n",
      "93 * 10 = 930\n",
      "94 * 10 = 940\n",
      "95 * 10 = 950\n",
      "96 * 10 = 960\n",
      "97 * 10 = 970\n",
      "98 * 10 = 980\n",
      "99 * 10 = 990\n",
      "100 * 10 = 1000\n"
     ]
    }
   ],
   "source": [
    "# your code here\n",
    "\n",
    "def get_input():\n",
    "    i = 0\n",
    "    while i < 1:\n",
    "        print('Please enter a number...')\n",
    "        q = input()\n",
    "        if q.isnumeric():\n",
    "            num = int(q)\n",
    "            x = [print(i, f'* {num} =', num * i)\n",
    "                 for i in range(1, num**2+1)].clear()\n",
    "            i += 1\n",
    "            return x\n",
    "        else:\n",
    "            print('Enter a positive whole number...')\n",
    "            continue\n",
    "\n",
    "\n",
    "get_input()\n"
   ]
  },
  {
   "cell_type": "markdown",
   "metadata": {},
   "source": [
    "## Activity 11\n",
    "Create a script that identifies all prime numbers between 0 and 100. "
   ]
  },
  {
   "cell_type": "code",
   "execution_count": 12,
   "metadata": {},
   "outputs": [
    {
     "data": {
      "text/plain": [
       "{2,\n",
       " 3,\n",
       " 5,\n",
       " 7,\n",
       " 11,\n",
       " 13,\n",
       " 17,\n",
       " 19,\n",
       " 23,\n",
       " 29,\n",
       " 31,\n",
       " 37,\n",
       " 41,\n",
       " 43,\n",
       " 47,\n",
       " 53,\n",
       " 59,\n",
       " 61,\n",
       " 67,\n",
       " 71,\n",
       " 73,\n",
       " 79,\n",
       " 83,\n",
       " 89,\n",
       " 97}"
      ]
     },
     "execution_count": 12,
     "metadata": {},
     "output_type": "execute_result"
    }
   ],
   "source": [
    "# your code here\n",
    "import math\n",
    "\n",
    "\n",
    "def isprime(num):\n",
    "    a = 2\n",
    "    while a <= math.sqrt(num):\n",
    "        if num % a < 1:\n",
    "            return False\n",
    "        a += 1\n",
    "        \n",
    "    return num > 1\n",
    "\n",
    "\n",
    "{i for i in range(0, 101) if isprime(i) == True}\n"
   ]
  },
  {
   "cell_type": "markdown",
   "metadata": {},
   "source": [
    "## Activity 12\n",
    "Write a script that calculates the greatest common denominator between two numbers.\n",
    "\n",
    "For example, given the numbers 18 and 27, the greatest common denominator is 9."
   ]
  },
  {
   "cell_type": "code",
   "execution_count": 13,
   "metadata": {},
   "outputs": [
    {
     "name": "stdout",
     "output_type": "stream",
     "text": [
      "Please enter a number...\n"
     ]
    },
    {
     "name": "stdin",
     "output_type": "stream",
     "text": [
      " 18\n",
      " 27\n"
     ]
    },
    {
     "name": "stdout",
     "output_type": "stream",
     "text": [
      "The gcd of 18 and 27 is 9\n"
     ]
    }
   ],
   "source": [
    "# your code here\n",
    "import math\n",
    "\n",
    "\n",
    "def get_gcd():\n",
    "    n = []\n",
    "    print('Please enter a number...')\n",
    "\n",
    "    while len(n) < 2:\n",
    "        q = input()\n",
    "        if q.isnumeric():\n",
    "            num = int(q)\n",
    "            n.append(num)\n",
    "        else:\n",
    "            print('Please enter a positive whole number...')\n",
    "            continue\n",
    "    gcd = math.gcd(n[0], n[1])\n",
    "\n",
    "    return print(f'The gcd of {n[0]} and {n[1]} is {gcd}')\n",
    "\n",
    "\n",
    "get_gcd()\n"
   ]
  },
  {
   "cell_type": "markdown",
   "metadata": {},
   "source": [
    "## Activity 13\n",
    "Write a script that computes the frequency of each digit in a given integer.\n",
    "\n",
    "For example, if the input number is 334, the output should be:\n",
    "\n",
    "    3 occurs 2 times \n",
    "    4 occurs 1 time"
   ]
  },
  {
   "cell_type": "code",
   "execution_count": 14,
   "metadata": {},
   "outputs": [],
   "source": [
    "# your code here\n"
   ]
  },
  {
   "cell_type": "markdown",
   "metadata": {},
   "source": [
    "## Activity 14\n",
    "\n",
    "Write a script that calculates the lowest common multiple of two given integers.\n",
    "\n",
    "For example, given the values 4 and 6, the lowest common multiple is 12."
   ]
  },
  {
   "cell_type": "code",
   "execution_count": 15,
   "metadata": {},
   "outputs": [],
   "source": [
    "# your code here"
   ]
  },
  {
   "cell_type": "markdown",
   "metadata": {},
   "source": [
    "## Activity 15\n",
    "Write a script that determines if an input number can be expressed as the sum of two prime numbers. \n",
    "\n",
    "For example, the number `10` can be expressed as the sum of two prime numbers:\n",
    "* 10 = 3 + 7 : both prime numbers \n",
    "* 10 = 5 + 5 : both prime numbers \n",
    "\n",
    "However, the number `11` cannot be:\n",
    "* 11 = 1 + 10 : neither 1 nor 10 are prime numbers\n",
    "* 11 = 2 + 9 : 9 is not a prime number\n",
    "* 11 = 3 + 8 : 8 is not a prime number\n",
    "* 11 = 4 + 7 : 4 is not a prime number\n",
    "* 11 = 5 + 6 : 6 is not a prime number"
   ]
  },
  {
   "cell_type": "code",
   "execution_count": 16,
   "metadata": {},
   "outputs": [],
   "source": [
    "# your code here"
   ]
  }
 ],
 "metadata": {
  "kernelspec": {
   "display_name": "Python 3 (ipykernel)",
   "language": "python",
   "name": "python3"
  },
  "language_info": {
   "codemirror_mode": {
    "name": "ipython",
    "version": 3
   },
   "file_extension": ".py",
   "mimetype": "text/x-python",
   "name": "python",
   "nbconvert_exporter": "python",
   "pygments_lexer": "ipython3",
   "version": "3.8.10"
  }
 },
 "nbformat": 4,
 "nbformat_minor": 4
}
